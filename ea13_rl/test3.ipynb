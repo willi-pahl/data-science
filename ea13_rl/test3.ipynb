{
 "cells": [
  {
   "cell_type": "code",
   "execution_count": 4,
   "id": "26b02ff7-fbe5-4661-8b98-266b3daad7ea",
   "metadata": {},
   "outputs": [
    {
     "name": "stdout",
     "output_type": "stream",
     "text": [
      "\n",
      "--- 8x8 map by env id ---\n",
      "\n",
      "--- 8x8 map by map_name parameter ---\n",
      "\n",
      "--- custom 5x5 map ---\n"
     ]
    }
   ],
   "source": [
    "import gym\n",
    "\n",
    "print(\"\\n--- 8x8 map by env id ---\")\n",
    "env = gym.make(\"FrozenLake8x8-v1\")\n",
    "env.reset()\n",
    "env.render()\n",
    "\n",
    "print(\"\\n--- 8x8 map by map_name parameter ---\")\n",
    "env = gym.make('FrozenLake-v1', map_name='8x8')\n",
    "env.reset()\n",
    "env.render()\n",
    "\n",
    "print('\\n--- custom 5x5 map ---')\n",
    "custom_map = [\n",
    "    'SFFHF',\n",
    "    'HFHFF',\n",
    "    'HFFFH',\n",
    "    'HHHFH',\n",
    "    'HFFFG'\n",
    "]\n",
    "\n",
    "env = gym.make('FrozenLake-v1', desc=custom_map)\n",
    "env.reset()\n",
    "env.render()\n",
    "\n",
    "env.close()"
   ]
  },
  {
   "cell_type": "code",
   "execution_count": null,
   "id": "a64ae8f3-5064-474e-ad68-8bf9240e127e",
   "metadata": {},
   "outputs": [],
   "source": []
  }
 ],
 "metadata": {
  "kernelspec": {
   "display_name": "Python 3 (ipykernel)",
   "language": "python",
   "name": "python3"
  },
  "language_info": {
   "codemirror_mode": {
    "name": "ipython",
    "version": 3
   },
   "file_extension": ".py",
   "mimetype": "text/x-python",
   "name": "python",
   "nbconvert_exporter": "python",
   "pygments_lexer": "ipython3",
   "version": "3.9.2"
  }
 },
 "nbformat": 4,
 "nbformat_minor": 5
}
