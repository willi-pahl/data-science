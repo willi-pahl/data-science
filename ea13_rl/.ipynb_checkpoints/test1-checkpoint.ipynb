{
 "cells": [
  {
   "cell_type": "markdown",
   "id": "ed8fbb21-5874-454e-b2a7-2e1c7fb45396",
   "metadata": {},
   "source": [
    "Write a client for any environment from open.ai GYM.\n",
    "Random actions are ok. \n",
    "No need to apply SARSA or Q-Learning yet. But of course, you can."
   ]
  },
  {
   "cell_type": "code",
   "execution_count": 1,
   "id": "b57bda0d-8929-4a4d-91c2-bffed1b22d6b",
   "metadata": {},
   "outputs": [],
   "source": [
    "import gym\n"
   ]
  },
  {
   "cell_type": "code",
   "execution_count": 2,
   "id": "8a57576d-beca-45ca-b87f-596344e2b9db",
   "metadata": {},
   "outputs": [],
   "source": [
    "env = gym.make('FrozenLake-v1', map_name='4x4')\n",
    "env.reset()                    \n",
    "env.render()\n",
    "\n",
    "MAX_ITERATIONS = 50\n",
    "for i in range(MAX_ITERATIONS):\n",
    "    random_action = env.action_space.sample()\n",
    "    new_state, reward, done, info = env.step(random_action)\n",
    "    env.render()\n",
    "    if done:\n",
    "        break"
   ]
  },
  {
   "cell_type": "code",
   "execution_count": null,
   "id": "6b755fd9-7a6d-4c62-aa85-7453f9a4ef96",
   "metadata": {},
   "outputs": [],
   "source": []
  }
 ],
 "metadata": {
  "kernelspec": {
   "display_name": "Python 3 (ipykernel)",
   "language": "python",
   "name": "python3"
  },
  "language_info": {
   "codemirror_mode": {
    "name": "ipython",
    "version": 3
   },
   "file_extension": ".py",
   "mimetype": "text/x-python",
   "name": "python",
   "nbconvert_exporter": "python",
   "pygments_lexer": "ipython3",
   "version": "3.9.2"
  }
 },
 "nbformat": 4,
 "nbformat_minor": 5
}
