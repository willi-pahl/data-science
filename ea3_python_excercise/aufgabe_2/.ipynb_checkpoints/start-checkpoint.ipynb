{
 "cells": [
  {
   "cell_type": "code",
   "execution_count": 1,
   "id": "729cda58-a890-477d-8ab5-596897b89b8f",
   "metadata": {},
   "outputs": [
    {
     "name": "stdout",
     "output_type": "stream",
     "text": [
      "id \t done \t Tddo\n",
      "0 \t [1] \t Test 2\n",
      "1 \t [0] \t lala\n",
      "2 \t [0] \t Test\n",
      "id \t done \t Tddo\n",
      "0 \t [1] \t Test 2\n",
      "1 \t [0] \t lala\n",
      "2 \t [1] \t Test\n",
      "id \t done \t Tddo\n",
      "0 \t [1] \t Test 2\n",
      "2 \t [1] \t Test\n"
     ]
    }
   ],
   "source": [
    "import todo_lib.dataobject as daob\n",
    "dobj = daob.DataObject()\n",
    "\n",
    "item = {\n",
    "    'desc': 'Test 2',\n",
    "    'done': 1\n",
    "}\n",
    "dobj.insert(item)\n",
    "dobj.insert({'desc':'lala', 'done': 0})\n",
    "dobj.insert({'desc':'Test', 'done': 0})\n",
    "dobj.selectAll()\n",
    "\n",
    "dobj.update({'id': 2, 'desc':'Test', 'done': 1})\n",
    "dobj.selectAll()\n",
    "\n",
    "dobj.delete(1)\n",
    "dobj.selectAll()"
   ]
  },
  {
   "cell_type": "code",
   "execution_count": null,
   "id": "607ce529-800b-4ffb-a5ad-b3e7b4348ce0",
   "metadata": {},
   "outputs": [],
   "source": []
  }
 ],
 "metadata": {
  "kernelspec": {
   "display_name": "Python 3 (ipykernel)",
   "language": "python",
   "name": "python3"
  },
  "language_info": {
   "codemirror_mode": {
    "name": "ipython",
    "version": 3
   },
   "file_extension": ".py",
   "mimetype": "text/x-python",
   "name": "python",
   "nbconvert_exporter": "python",
   "pygments_lexer": "ipython3",
   "version": "3.9.2"
  }
 },
 "nbformat": 4,
 "nbformat_minor": 5
}
