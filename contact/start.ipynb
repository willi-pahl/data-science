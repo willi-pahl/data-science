{
 "cells": [
  {
   "cell_type": "code",
   "execution_count": null,
   "id": "729cda58-a890-477d-8ab5-596897b89b8f",
   "metadata": {},
   "outputs": [
    {
     "name": "stdout",
     "output_type": "stream",
     "text": [
      "id \t done \t Tddo\n",
      "0 \t [0] \t Start EA3 in data science\n",
      "1 \t [1] \t Submit EA2 in data science\n",
      "2 \t [0] \t Completing a first draft in scientific seminar\n",
      "Select the next action, enter number: create Todo: 1, update Todo: 2, delete Todo: 3 or exit: 4\n"
     ]
    },
    {
     "name": "stdin",
     "output_type": "stream",
     "text": [
      "select your next action: 3\n",
      "Todo ID: 1\n"
     ]
    },
    {
     "name": "stdout",
     "output_type": "stream",
     "text": [
      "id \t done \t Tddo\n",
      "0 \t [0] \t Start EA3 in data science\n",
      "2 \t [0] \t Completing a first draft in scientific seminar\n",
      "Select the next action, enter number: create Todo: 1, update Todo: 2, delete Todo: 3 or exit: 4\n"
     ]
    },
    {
     "name": "stdin",
     "output_type": "stream",
     "text": [
      "select your next action: 2\n",
      "Todo ID: 2\n",
      "Description (empty for not update): \n",
      "Insert [y] todo is done: y\n"
     ]
    },
    {
     "name": "stdout",
     "output_type": "stream",
     "text": [
      "{'desc': 'Completing a first draft in scientific seminar', 'done': 1, 'delete': 0, 'id': 2}\n",
      "id \t done \t Tddo\n",
      "0 \t [0] \t Start EA3 in data science\n",
      "2 \t [1] \t Completing a first draft in scientific seminar\n",
      "Select the next action, enter number: create Todo: 1, update Todo: 2, delete Todo: 3 or exit: 4\n"
     ]
    },
    {
     "name": "stdin",
     "output_type": "stream",
     "text": [
      "select your next action: 3\n"
     ]
    }
   ],
   "source": [
    "import todo_lib.todo as todo\n",
    "todo = todo.SimpleTodo()\n",
    "todo.run()"
   ]
  },
  {
   "cell_type": "code",
   "execution_count": null,
   "id": "607ce529-800b-4ffb-a5ad-b3e7b4348ce0",
   "metadata": {},
   "outputs": [],
   "source": []
  }
 ],
 "metadata": {
  "kernelspec": {
   "display_name": "Python 3 (ipykernel)",
   "language": "python",
   "name": "python3"
  },
  "language_info": {
   "codemirror_mode": {
    "name": "ipython",
    "version": 3
   },
   "file_extension": ".py",
   "mimetype": "text/x-python",
   "name": "python",
   "nbconvert_exporter": "python",
   "pygments_lexer": "ipython3",
   "version": "3.9.2"
  }
 },
 "nbformat": 4,
 "nbformat_minor": 5
}
