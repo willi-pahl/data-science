{
 "cells": [
  {
   "cell_type": "markdown",
   "id": "6c0ac753-7119-4358-ab3f-6bb57e0f94ed",
   "metadata": {},
   "source": [
    "Analyse this dataset: [1] which looks like this:\n",
    "\n",
    "[ -5.34023562,   4.7472463 ,   3.82332607],\n",
    "[ -9.58706542,  -3.43446551,   9.70183939],\n",
    "[ -8.38501223,  -3.90279369,   8.51462008],\n",
    "[  5.7082258 ,   2.65857479,   5.40448245],\n",
    "[ -7.43166517,  -4.39025105,   9.00321635],\n",
    "[  5.028509  ,   9.04769521,  -8.54843651],\n",
    "[  6.37219562,   4.45994039,   4.36935755],\n",
    "[ -8.35525163,  -3.51695636,   7.16271385],\n",
    "[ -3.40526552,   2.28142739,  -7.63117179],\n",
    "[  5.62156138,   3.43105644,   4.66657363],\n",
    "...\n",
    "and 90 more => n = 100\n",
    "Now answer these two questions:\n",
    "\n",
    "A) What is the best k? (usually derived by plotting each graph ;-)\n",
    "\n",
    "B) Can you print the clustering vector?\n",
    "\n",
    "(e.g. point i=1 belongs to cluster 1, point i=5 belongs to cluster 2, ...)"
   ]
  },
  {
   "cell_type": "code",
   "execution_count": 1,
   "id": "e1328e8e-149c-466c-8a6d-ef3f06d5dbbb",
   "metadata": {},
   "outputs": [],
   "source": [
    "import numpy as np\n",
    "import pandas as pd\n",
    "\n",
    "from sklearn.cluster import KMeans\n",
    "%matplotlib inline\n",
    "import matplotlib.pyplot as plt"
   ]
  },
  {
   "cell_type": "code",
   "execution_count": 2,
   "id": "3228d229-7ad0-4c82-a40b-c55ae9e4fcd8",
   "metadata": {},
   "outputs": [
    {
     "data": {
      "text/html": [
       "<div>\n",
       "<style scoped>\n",
       "    .dataframe tbody tr th:only-of-type {\n",
       "        vertical-align: middle;\n",
       "    }\n",
       "\n",
       "    .dataframe tbody tr th {\n",
       "        vertical-align: top;\n",
       "    }\n",
       "\n",
       "    .dataframe thead th {\n",
       "        text-align: right;\n",
       "    }\n",
       "</style>\n",
       "<table border=\"1\" class=\"dataframe\">\n",
       "  <thead>\n",
       "    <tr style=\"text-align: right;\">\n",
       "      <th></th>\n",
       "      <th>V1</th>\n",
       "      <th>V2</th>\n",
       "      <th>V3</th>\n",
       "    </tr>\n",
       "  </thead>\n",
       "  <tbody>\n",
       "    <tr>\n",
       "      <th>0</th>\n",
       "      <td>-5.340236</td>\n",
       "      <td>4.747246</td>\n",
       "      <td>3.823326</td>\n",
       "    </tr>\n",
       "    <tr>\n",
       "      <th>1</th>\n",
       "      <td>-9.587065</td>\n",
       "      <td>-3.434466</td>\n",
       "      <td>9.701839</td>\n",
       "    </tr>\n",
       "    <tr>\n",
       "      <th>2</th>\n",
       "      <td>-8.385012</td>\n",
       "      <td>-3.902794</td>\n",
       "      <td>8.514620</td>\n",
       "    </tr>\n",
       "    <tr>\n",
       "      <th>3</th>\n",
       "      <td>5.708226</td>\n",
       "      <td>2.658575</td>\n",
       "      <td>5.404482</td>\n",
       "    </tr>\n",
       "    <tr>\n",
       "      <th>4</th>\n",
       "      <td>-7.431665</td>\n",
       "      <td>-4.390251</td>\n",
       "      <td>9.003216</td>\n",
       "    </tr>\n",
       "  </tbody>\n",
       "</table>\n",
       "</div>"
      ],
      "text/plain": [
       "         V1        V2        V3\n",
       "0 -5.340236  4.747246  3.823326\n",
       "1 -9.587065 -3.434466  9.701839\n",
       "2 -8.385012 -3.902794  8.514620\n",
       "3  5.708226  2.658575  5.404482\n",
       "4 -7.431665 -4.390251  9.003216"
      ]
     },
     "execution_count": 2,
     "metadata": {},
     "output_type": "execute_result"
    }
   ],
   "source": [
    "path = './data/edlich-kmeans-A0.csv'\n",
    "df = pd.read_csv(path)\n",
    "df.head()"
   ]
  },
  {
   "cell_type": "code",
   "execution_count": 4,
   "id": "b8d4a028-26f9-4d10-b8c1-725bc838bdb4",
   "metadata": {},
   "outputs": [
    {
     "data": {
      "image/png": "[encoded data removed]",
      "text/plain": [
       "<Figure size 432x288 with 1 Axes>"
      ]
     },
     "metadata": {
      "needs_background": "light"
     },
     "output_type": "display_data"
    }
   ],
   "source": [
    "wcss = []\n",
    "for i in range(1, 6):\n",
    "    kmeans = KMeans(n_clusters=i, init='k-means++', max_iter=300, n_init=10, random_state=0)\n",
    "    kmeans.fit(df)\n",
    "    wcss.append(kmeans.inertia_)\n",
    "plt.plot(range(1, 6), wcss)\n",
    "plt.title('Elbow Method')\n",
    "plt.xlabel('Number of clusters')\n",
    "plt.ylabel('WCSS')\n",
    "plt.show()"
   ]
  },
  {
   "cell_type": "code",
   "execution_count": null,
   "id": "848b48ee-edde-4777-85d5-4b2dd9623aba",
   "metadata": {},
   "outputs": [],
   "source": []
  }
 ],
 "metadata": {
  "kernelspec": {
   "display_name": "Python 3 (ipykernel)",
   "language": "python",
   "name": "python3"
  },
  "language_info": {
   "codemirror_mode": {
    "name": "ipython",
    "version": 3
   },
   "file_extension": ".py",
   "mimetype": "text/x-python",
   "name": "python",
   "nbconvert_exporter": "python",
   "pygments_lexer": "ipython3",
   "version": "3.9.2"
  }
 },
 "nbformat": 4,
 "nbformat_minor": 5
}
