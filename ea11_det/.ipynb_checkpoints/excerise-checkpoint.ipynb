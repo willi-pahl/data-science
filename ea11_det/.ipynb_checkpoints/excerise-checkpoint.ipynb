{
 "cells": [
  {
   "cell_type": "markdown",
   "id": "c7fa59c7-9af5-4d62-b972-744bb4468023",
   "metadata": {},
   "source": [
    "A) Find some data here on people. The goal is to decide if someone buys a computer or not. Derive the best decision tree by calculating a little by hand (Shannon). At least the first split."
   ]
  }
 ],
 "metadata": {
  "kernelspec": {
   "display_name": "Python 3 (ipykernel)",
   "language": "python",
   "name": "python3"
  },
  "language_info": {
   "codemirror_mode": {
    "name": "ipython",
    "version": 3
   },
   "file_extension": ".py",
   "mimetype": "text/x-python",
   "name": "python",
   "nbconvert_exporter": "python",
   "pygments_lexer": "ipython3",
   "version": "3.9.2"
  }
 },
 "nbformat": 4,
 "nbformat_minor": 5
}
