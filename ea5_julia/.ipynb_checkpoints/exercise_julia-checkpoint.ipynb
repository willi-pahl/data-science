{
 "cells": [
  {
   "cell_type": "code",
   "execution_count": 1,
   "id": "3b3c98ec-5673-48ec-9d66-8da7a69a0425",
   "metadata": {},
   "outputs": [
    {
     "data": {
      "text/plain": [
       "2×4 Array{Float64,2}:\n",
       " 0.602389  0.107819  0.87999    0.957386\n",
       " 0.683588  0.643332  0.0640094  0.437059"
      ]
     },
     "execution_count": 1,
     "metadata": {},
     "output_type": "execute_result"
    }
   ],
   "source": [
    "# Exercise 3 (JULIA)\n",
    "A_max = rand(2, 4)"
   ]
  },
  {
   "cell_type": "code",
   "execution_count": 2,
   "id": "b94845f4-82bd-4215-9cf1-f0e9c1d1edf7",
   "metadata": {},
   "outputs": [
    {
     "data": {
      "text/plain": [
       "(0.9573861634566192, CartesianIndex(1, 4))"
      ]
     },
     "execution_count": 2,
     "metadata": {},
     "output_type": "execute_result"
    }
   ],
   "source": [
    "max = findmax(A_max)"
   ]
  },
  {
   "cell_type": "code",
   "execution_count": 3,
   "id": "edd89ce4-8640-46e6-bac0-ea743c8635e0",
   "metadata": {},
   "outputs": [
    {
     "data": {
      "text/plain": [
       "2×2 Array{Int64,2}:\n",
       " 10  7\n",
       " 10  4"
      ]
     },
     "execution_count": 3,
     "metadata": {},
     "output_type": "execute_result"
    }
   ],
   "source": [
    "# Exercise 4 (JULIA)\n",
    "# 4.1\n",
    "A = rand(Int.(1:10), 2, 2)\n",
    "B = rand(Int.(1:10), 2, 2)"
   ]
  },
  {
   "cell_type": "code",
   "execution_count": 4,
   "id": "38054b2e-3417-4605-9964-b22b7d63702b",
   "metadata": {},
   "outputs": [
    {
     "name": "stdout",
     "output_type": "stream",
     "text": [
      "[8 5; 5 3][10 7; 10 4]"
     ]
    }
   ],
   "source": [
    "show(A)\n",
    "show(B)"
   ]
  },
  {
   "cell_type": "code",
   "execution_count": 5,
   "id": "4496ced6-96b3-4073-ac51-9d4aef569b85",
   "metadata": {},
   "outputs": [
    {
     "data": {
      "text/plain": [
       "2×2 Array{Int64,2}:\n",
       " 18  12\n",
       " 15   7"
      ]
     },
     "execution_count": 5,
     "metadata": {},
     "output_type": "execute_result"
    }
   ],
   "source": [
    "# Addinition.\n",
    "# 4.1\n",
    "M_add = A + B"
   ]
  },
  {
   "cell_type": "code",
   "execution_count": 6,
   "id": "e1d7cbb6-7d17-4bfd-9373-4795131e874d",
   "metadata": {},
   "outputs": [
    {
     "data": {
      "text/plain": [
       "2×2 Array{Int64,2}:\n",
       " -2  -2\n",
       " -5  -1"
      ]
     },
     "execution_count": 6,
     "metadata": {},
     "output_type": "execute_result"
    }
   ],
   "source": [
    "# Subtraction\n",
    "# 4.1\n",
    "M_sub = A - B"
   ]
  },
  {
   "cell_type": "code",
   "execution_count": 18,
   "id": "f636f6ba-ba18-448e-a5cf-fec8d073a878",
   "metadata": {},
   "outputs": [],
   "source": [
    "# 4.2\n",
    "# Bei A * B wird das neue MAtix-Element C_{ij} durch Multiplikation aus\n",
    "# Zeile mal Spalte berechnet.\n",
    "# Während bei A. * B. das neue Element C_{ij} elmentweise durch A_{ij} * B_{ij}\n",
    "# Berechnet wird."
   ]
  },
  {
   "cell_type": "code",
   "execution_count": 7,
   "id": "53a259d5-7cee-4f18-a967-75245472a09c",
   "metadata": {},
   "outputs": [
    {
     "data": {
      "text/plain": [
       "2×2 Array{Int64,2}:\n",
       " 130  76\n",
       "  80  47"
      ]
     },
     "execution_count": 7,
     "metadata": {},
     "output_type": "execute_result"
    }
   ],
   "source": [
    "# Multiplication 1\n",
    "# 4.2.a\n",
    "M_mul_1 = A * B"
   ]
  },
  {
   "cell_type": "code",
   "execution_count": 17,
   "id": "b67209c4-2573-4252-887c-0ff58d4b5abd",
   "metadata": {},
   "outputs": [
    {
     "data": {
      "text/plain": [
       "2×2 Array{Int64,2}:\n",
       " 80  35\n",
       " 50  12"
      ]
     },
     "execution_count": 17,
     "metadata": {},
     "output_type": "execute_result"
    }
   ],
   "source": [
    "# Multiplication 2\n",
    "# 4.2.b\n",
    "M_mul_2 = A.*B"
   ]
  },
  {
   "cell_type": "code",
   "execution_count": null,
   "id": "e546bf44-144c-40ae-a048-b658961481e8",
   "metadata": {},
   "outputs": [],
   "source": [
    "# 4.3\n",
    "# Division gibt es bei Matritzen nicht.\n",
    "# A/B = A * B^{-1}, also die Multiplikation mit der Inversen.\n",
    "# A\\B = B^{-1} * A, hierbei ist die \"Linksdivision\" gemeint."
   ]
  },
  {
   "cell_type": "code",
   "execution_count": 10,
   "id": "15b26125-e350-4767-aaea-4d2a71583b32",
   "metadata": {},
   "outputs": [
    {
     "data": {
      "text/plain": [
       "2×2 Array{Float64,2}:\n",
       " 0.6       0.2\n",
       " 0.333333  0.166667"
      ]
     },
     "execution_count": 10,
     "metadata": {},
     "output_type": "execute_result"
    }
   ],
   "source": [
    "# Division 1.\n",
    "# 4.3\n",
    "M_diff_1 = A / B"
   ]
  },
  {
   "cell_type": "code",
   "execution_count": 11,
   "id": "41012fc8-45e2-4bf1-a63c-13dda6cbc622",
   "metadata": {},
   "outputs": [
    {
     "data": {
      "text/plain": [
       "2×2 Array{Float64,2}:\n",
       "  20.0  -1.0\n",
       " -30.0   3.0"
      ]
     },
     "execution_count": 11,
     "metadata": {},
     "output_type": "execute_result"
    }
   ],
   "source": [
    "# Division 2.\n",
    "#4.3\n",
    "M_diff_2 = A \\ B"
   ]
  },
  {
   "cell_type": "code",
   "execution_count": 12,
   "id": "dbdccc1c-755c-460a-af59-548b6b2431aa",
   "metadata": {},
   "outputs": [
    {
     "data": {
      "text/plain": [
       "3×3 Array{Int64,2}:\n",
       " 1  1  1\n",
       " 1  1  1\n",
       " 1  1  1"
      ]
     },
     "execution_count": 12,
     "metadata": {},
     "output_type": "execute_result"
    }
   ],
   "source": [
    "#\n",
    "# 4.4\n",
    "M_int = rand(Int.(1:10), 3, 3)\n",
    "M_of_ones = ones(Int, 3,3)"
   ]
  },
  {
   "cell_type": "code",
   "execution_count": 13,
   "id": "a493da40-25ae-4c69-8ff4-75d2138cd019",
   "metadata": {},
   "outputs": [
    {
     "name": "stdout",
     "output_type": "stream",
     "text": [
      "[5 4 1; 4 6 5; 7 4 5]"
     ]
    }
   ],
   "source": [
    "show(M_int)"
   ]
  },
  {
   "cell_type": "code",
   "execution_count": 14,
   "id": "7615f2fe-59b4-4302-9585-e17589b87345",
   "metadata": {},
   "outputs": [
    {
     "name": "stdout",
     "output_type": "stream",
     "text": [
      "[1 1 1; 1 1 1; 1 1 1]"
     ]
    }
   ],
   "source": [
    "show(M_of_ones)"
   ]
  },
  {
   "cell_type": "code",
   "execution_count": 15,
   "id": "948b3990-eafd-478b-aea1-c814d90c6d6f",
   "metadata": {},
   "outputs": [
    {
     "data": {
      "text/plain": [
       "3×3 Array{Int64,2}:\n",
       " 6  5  2\n",
       " 5  7  6\n",
       " 8  5  6"
      ]
     },
     "execution_count": 15,
     "metadata": {},
     "output_type": "execute_result"
    }
   ],
   "source": [
    "# 4.4\n",
    "M_add_1 = M_int + 1 * M_of_ones"
   ]
  },
  {
   "cell_type": "code",
   "execution_count": 16,
   "id": "b3bd6662-0829-43ef-b290-83c4cb7fa794",
   "metadata": {},
   "outputs": [
    {
     "data": {
      "text/plain": [
       "3×3 Array{Int64,2}:\n",
       " 4  3  0\n",
       " 3  5  4\n",
       " 6  3  4"
      ]
     },
     "execution_count": 16,
     "metadata": {},
     "output_type": "execute_result"
    }
   ],
   "source": [
    "M_diff_1 = M_int - 1 * M_of_ones"
   ]
  },
  {
   "cell_type": "code",
   "execution_count": null,
   "id": "e961dbd2-06be-4290-bdaf-89a4c6b60913",
   "metadata": {},
   "outputs": [],
   "source": []
  }
 ],
 "metadata": {
  "kernelspec": {
   "display_name": "Julia 1.5.3",
   "language": "julia",
   "name": "julia-1.5"
  },
  "language_info": {
   "file_extension": ".jl",
   "mimetype": "application/julia",
   "name": "julia",
   "version": "1.5.3"
  }
 },
 "nbformat": 4,
 "nbformat_minor": 5
}
