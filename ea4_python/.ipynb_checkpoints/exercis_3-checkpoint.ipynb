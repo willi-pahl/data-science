{
 "cells": [
  {
   "cell_type": "code",
   "execution_count": 1,
   "id": "00b1d7ca-23d6-4301-b33c-83d7a3c0316b",
   "metadata": {},
   "outputs": [],
   "source": [
    "## Load the countries.csv directly via URL import into your panda data frame!\n",
    "import pandas as pd\n",
    "pathname = '/home/pahl/Dokumente/Studium/Module/6_DS/github/ea4_python/'\n",
    "filename = 'countries.csv'\n",
    "df = pd.read_csv(pathname + filename)"
   ]
  },
  {
   "cell_type": "code",
   "execution_count": 2,
   "id": "c086cab2-5320-47e6-b5a7-6815c797eb15",
   "metadata": {},
   "outputs": [
    {
     "name": "stdout",
     "output_type": "stream",
     "text": [
      "       Name     People     Area   BIP Currency\n",
      "0   Germany   82521653   357385  3466      EUR\n",
      "1     Japan  126045000   377835  4938      YEN\n",
      "2    Canada   36503097  9984670  1529      CAD\n",
      "3     Italy   60501718   301338  1850      EUR\n",
      "4  Brazilia  208360000  8515770  1798     REAL\n"
     ]
    }
   ],
   "source": [
    "## Display some basic information as rows, columns and some basic statistical info.\n",
    "print(df)"
   ]
  },
  {
   "cell_type": "code",
   "execution_count": 3,
   "id": "4b2e8e40-5873-4af3-b784-de0ce09c440e",
   "metadata": {},
   "outputs": [
    {
     "name": "stdout",
     "output_type": "stream",
     "text": [
      "       Name     People     Area   BIP Currency\n",
      "4  Brazilia  208360000  8515770  1798     REAL\n"
     ]
    }
   ],
   "source": [
    "## Show the last 4 rows of the data frame.\n",
    "print (df.tail(1))"
   ]
  },
  {
   "cell_type": "code",
   "execution_count": 4,
   "id": "0edb017d-01c5-4b1a-a250-22e5aebe2a43",
   "metadata": {},
   "outputs": [
    {
     "name": "stdout",
     "output_type": "stream",
     "text": [
      "      Name    People    Area   BIP Currency\n",
      "0  Germany  82521653  357385  3466      EUR\n",
      "3    Italy  60501718  301338  1850      EUR\n"
     ]
    }
   ],
   "source": [
    "## Show all the row of countries who have the EURO\n",
    "currency_euro = df.loc[df['Currency'] == 'EUR']\n",
    "print(currency_euro)"
   ]
  },
  {
   "cell_type": "code",
   "execution_count": 5,
   "id": "4701bdde-26ff-4bfd-a458-37e6b3e6a085",
   "metadata": {},
   "outputs": [
    {
     "name": "stdout",
     "output_type": "stream",
     "text": [
      "       Name Currency\n",
      "0   Germany      EUR\n",
      "1     Japan      YEN\n",
      "2    Canada      CAD\n",
      "3     Italy      EUR\n",
      "4  Brazilia     REAL\n"
     ]
    }
   ],
   "source": [
    "## Show only name and Currency in a new data frame\n",
    "name_currency = df[['Name', 'Currency']]\n",
    "print(name_currency)"
   ]
  },
  {
   "cell_type": "code",
   "execution_count": 6,
   "id": "a3ff3d36-6603-4f41-943c-65bbd1d57507",
   "metadata": {},
   "outputs": [
    {
     "name": "stdout",
     "output_type": "stream",
     "text": [
      "      Name     People    Area   BIP Currency\n",
      "0  Germany   82521653  357385  3466      EUR\n",
      "1    Japan  126045000  377835  4938      YEN\n"
     ]
    }
   ],
   "source": [
    "## Show only the rows/countries that have more than 2000 BIP\n",
    "## (it is in Milliarden USD Bruttoinlandsprodukt)\n",
    "more_as_bip = df.loc[df['BIP'] > 2000]\n",
    "print(more_as_bip)"
   ]
  },
  {
   "cell_type": "code",
   "execution_count": 7,
   "id": "0295e64b-25b5-40c7-bdcb-cf44cdcbcc78",
   "metadata": {},
   "outputs": [
    {
     "name": "stdout",
     "output_type": "stream",
     "text": [
      "      Name     People    Area   BIP Currency\n",
      "0  Germany   82521653  357385  3466      EUR\n",
      "1    Japan  126045000  377835  4938      YEN\n",
      "3    Italy   60501718  301338  1850      EUR\n"
     ]
    }
   ],
   "source": [
    "## Select all countries where with inhabitants between 50 and 150 Mio\n",
    "between_inhabitants = df.loc[(df['People'] > 50000000) & (df['People'] < 150000000)]\n",
    "print(between_inhabitants)"
   ]
  },
  {
   "cell_type": "code",
   "execution_count": 8,
   "id": "98f4c4ba-c664-49df-8f71-735f8ca7f53e",
   "metadata": {},
   "outputs": [
    {
     "name": "stdout",
     "output_type": "stream",
     "text": [
      "       Name     People     Area   Bip Currency\n",
      "0   Germany   82521653   357385  3466      EUR\n",
      "1     Japan  126045000   377835  4938      YEN\n",
      "2    Canada   36503097  9984670  1529      CAD\n",
      "3     Italy   60501718   301338  1850      EUR\n",
      "4  Brazilia  208360000  8515770  1798     REAL\n"
     ]
    }
   ],
   "source": [
    "## Change BIP to Bip\n",
    "rename_bip = df.rename({'BIP': 'Bip'}, axis=1)\n",
    "print(rename_bip)"
   ]
  },
  {
   "cell_type": "code",
   "execution_count": 9,
   "id": "695cfe85-a095-42e2-80bf-dc45d1c79e88",
   "metadata": {},
   "outputs": [
    {
     "name": "stdout",
     "output_type": "stream",
     "text": [
      "13581\n"
     ]
    }
   ],
   "source": [
    "## Calculate the Bip sum\n",
    "bip_sum = df['BIP'].sum(axis=0)\n",
    "print(bip_sum)"
   ]
  },
  {
   "cell_type": "code",
   "execution_count": 10,
   "id": "7e895315-ab6a-4959-b6e8-73e5e5e5e3ce",
   "metadata": {},
   "outputs": [
    {
     "name": "stdout",
     "output_type": "stream",
     "text": [
      "102786293.6\n"
     ]
    }
   ],
   "source": [
    "## Calculate the average people of all countries\n",
    "average_of_people = df['People'].mean()\n",
    "print(average_of_people)"
   ]
  },
  {
   "cell_type": "code",
   "execution_count": 11,
   "id": "e6d9877a-5b90-401d-a0d6-8422519ae582",
   "metadata": {},
   "outputs": [
    {
     "name": "stdout",
     "output_type": "stream",
     "text": [
      "       Name     People     Area   BIP Currency\n",
      "4  Brazilia  208360000  8515770  1798     REAL\n",
      "2    Canada   36503097  9984670  1529      CAD\n",
      "0   Germany   82521653   357385  3466      EUR\n",
      "3     Italy   60501718   301338  1850      EUR\n",
      "1     Japan  126045000   377835  4938      YEN\n"
     ]
    }
   ],
   "source": [
    "## Sort by name alphabetically\n",
    "sort_alphabetically_byname = df.sort_values('Name')\n",
    "print(sort_alphabetically_byname)"
   ]
  },
  {
   "cell_type": "code",
   "execution_count": 13,
   "id": "7c231fae-865e-4869-b80b-91227e82dcd8",
   "metadata": {},
   "outputs": [
    {
     "name": "stdout",
     "output_type": "stream",
     "text": [
      "       Name     People   Area   BIP Currency\n",
      "0   Germany   82521653  SMALL  3466      EUR\n",
      "1     Japan  126045000  SMALL  4938      YEN\n",
      "2    Canada   36503097    BIG  1529      CAD\n",
      "3     Italy   60501718  SMALL  1850      EUR\n",
      "4  Brazilia  208360000    BIG  1798     REAL\n"
     ]
    }
   ],
   "source": [
    "## Create a new data frame from the original where the area is changed as follows:\n",
    "## all countries with > 1000000 get BIG and <= 1000000 get SMALL in the cell replaced!\n",
    "changed_to_big_or_small = df\n",
    "changed_to_big_or_small.loc[changed_to_big_or_small['Area'] > 1000000, 'Area'] = 'BIG'\n",
    "changed_to_big_or_small.loc[changed_to_big_or_small['Area'] != 'BIG', 'Area'] = 'SMALL'\n",
    "print(changed_to_big_or_small)"
   ]
  },
  {
   "cell_type": "code",
   "execution_count": null,
   "id": "c2f181a9-ee45-459d-8088-1e55b9681590",
   "metadata": {},
   "outputs": [],
   "source": []
  }
 ],
 "metadata": {
  "kernelspec": {
   "display_name": "Python 3 (ipykernel)",
   "language": "python",
   "name": "python3"
  },
  "language_info": {
   "codemirror_mode": {
    "name": "ipython",
    "version": 3
   },
   "file_extension": ".py",
   "mimetype": "text/x-python",
   "name": "python",
   "nbconvert_exporter": "python",
   "pygments_lexer": "ipython3",
   "version": "3.7.4"
  }
 },
 "nbformat": 4,
 "nbformat_minor": 5
}
