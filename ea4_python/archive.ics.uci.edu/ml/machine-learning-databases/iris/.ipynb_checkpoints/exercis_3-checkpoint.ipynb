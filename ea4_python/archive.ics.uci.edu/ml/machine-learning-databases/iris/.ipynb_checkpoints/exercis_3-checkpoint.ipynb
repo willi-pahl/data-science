{
 "cells": [
  {
   "cell_type": "code",
   "execution_count": 1,
   "id": "a2ace7f9-09fc-43c9-b873-fd06e40be2c9",
   "metadata": {},
   "outputs": [
    {
     "name": "stdout",
     "output_type": "stream",
     "text": [
      "       Name     People     Area   BIP Currency\n",
      "0   Germany   82521653   357385  3466      EUR\n",
      "1     Japan  126045000   377835  4938      YEN\n",
      "2    Canada   36503097  9984670  1529      CAD\n",
      "3     Italy   60501718   301338  1850      EUR\n",
      "4  Brazilia  208360000  8515770  1798     REAL\n"
     ]
    }
   ],
   "source": [
    "## Load the countries.csv directly via URL import into your panda data frame!\n",
    "import pandas as pd\n",
    "#df = pd.read_csv('https://github.com/edlich/eternalrepo/blob/master/DS-WAHLFACH/countries.csv')\n",
    "filepath = '/home/pahl/Dokumente/Studium/Module/6_DS/github/ea4_python/'\n",
    "filename = 'countries.csv'\n",
    "df = pd.read_csv(filepath + filename)\n",
    "## Display some basic information as rows, columns and some basic statistical info.\n",
    "print(df)"
   ]
  },
  {
   "cell_type": "code",
   "execution_count": 2,
   "id": "b05bd7fc-4ef0-48c6-8e08-03f5391dec41",
   "metadata": {},
   "outputs": [
    {
     "name": "stdout",
     "output_type": "stream",
     "text": [
      "       Name     People     Area   BIP Currency\n",
      "4  Brazilia  208360000  8515770  1798     REAL\n"
     ]
    }
   ],
   "source": [
    "## Show the last 4 rows of the data frame.\n",
    "print(df.tail(1))"
   ]
  },
  {
   "cell_type": "code",
   "execution_count": 3,
   "id": "e1207c65-9e39-41cb-a01c-c6876b2e7804",
   "metadata": {},
   "outputs": [
    {
     "name": "stdout",
     "output_type": "stream",
     "text": [
      "      Name    People    Area   BIP Currency\n",
      "0  Germany  82521653  357385  3466      EUR\n",
      "3    Italy  60501718  301338  1850      EUR\n"
     ]
    }
   ],
   "source": [
    "## Show all the row of countries who have the EURO\n",
    "euro = df.loc[df['Currency'] == 'EUR']\n",
    "print(euro)"
   ]
  },
  {
   "cell_type": "code",
   "execution_count": 4,
   "id": "423773cc-e0cb-49fd-9768-bf93def88ddb",
   "metadata": {},
   "outputs": [
    {
     "name": "stdout",
     "output_type": "stream",
     "text": [
      "       Name Currency\n",
      "0   Germany      EUR\n",
      "1     Japan      YEN\n",
      "2    Canada      CAD\n",
      "3     Italy      EUR\n",
      "4  Brazilia     REAL\n"
     ]
    }
   ],
   "source": [
    "## Show only name and Currency in a new data frame\n",
    "name_currency = df.reindex(columns = ['Name', 'Currency'])\n",
    "print(name_currency)"
   ]
  },
  {
   "cell_type": "code",
   "execution_count": 5,
   "id": "2d0e7fb2-aed8-41b2-bafa-fb2204d652e9",
   "metadata": {},
   "outputs": [
    {
     "name": "stdout",
     "output_type": "stream",
     "text": [
      "      Name     People    Area   BIP Currency\n",
      "0  Germany   82521653  357385  3466      EUR\n",
      "1    Japan  126045000  377835  4938      YEN\n"
     ]
    }
   ],
   "source": [
    "## Show only the rows/countries that have more than 2000 BIP (it is in Milliarden USD Bruttoinlandsprodukt)\n",
    "more_than_bip = df.loc[df['BIP'] > 2000]\n",
    "print(more_than_bip)"
   ]
  },
  {
   "cell_type": "code",
   "execution_count": 6,
   "id": "1fae11f4-7323-41a3-9246-a392af668fe2",
   "metadata": {},
   "outputs": [
    {
     "name": "stdout",
     "output_type": "stream",
     "text": [
      "      Name     People    Area   BIP Currency\n",
      "0  Germany   82521653  357385  3466      EUR\n",
      "1    Japan  126045000  377835  4938      YEN\n",
      "3    Italy   60501718  301338  1850      EUR\n"
     ]
    }
   ],
   "source": [
    "## Select all countries where with inhabitants between 50 and 150 Mio\n",
    "people_between = df.loc[(df['People'] > 50000000) & (df['People'] < 150000000)]\n",
    "print(people_between)"
   ]
  },
  {
   "cell_type": "code",
   "execution_count": 7,
   "id": "d59df96b-90fe-4ffa-a77c-a69c5512c51c",
   "metadata": {},
   "outputs": [
    {
     "name": "stdout",
     "output_type": "stream",
     "text": [
      "       Name     People     Area   Bip Currency\n",
      "0   Germany   82521653   357385  3466      EUR\n",
      "1     Japan  126045000   377835  4938      YEN\n",
      "2    Canada   36503097  9984670  1529      CAD\n",
      "3     Italy   60501718   301338  1850      EUR\n",
      "4  Brazilia  208360000  8515770  1798     REAL\n"
     ]
    }
   ],
   "source": [
    "## Change BIP to Bip\n",
    "BIP_to_Bip = df.rename(columns={'BIP': 'Bip'})\n",
    "print(BIP_to_Bip)"
   ]
  },
  {
   "cell_type": "code",
   "execution_count": 8,
   "id": "17840ffe-1eaa-49e4-b922-4fb94b1cb294",
   "metadata": {},
   "outputs": [
    {
     "name": "stdout",
     "output_type": "stream",
     "text": [
      "13581\n"
     ]
    }
   ],
   "source": [
    "## Calculate the Bip sum\n",
    "sum_bip = df['BIP'].sum()\n",
    "print(sum_bip)"
   ]
  },
  {
   "cell_type": "code",
   "execution_count": 9,
   "id": "861553f0-ddfd-4034-a192-cfe13ea6067d",
   "metadata": {},
   "outputs": [
    {
     "name": "stdout",
     "output_type": "stream",
     "text": [
      "102786293.6\n"
     ]
    }
   ],
   "source": [
    "## Calculate the average people of all countries\n",
    "average_people = df['People'].mean()\n",
    "print(average_people)"
   ]
  },
  {
   "cell_type": "code",
   "execution_count": 10,
   "id": "b4d80973-f728-49e0-86ca-9f8094579601",
   "metadata": {},
   "outputs": [
    {
     "name": "stdout",
     "output_type": "stream",
     "text": [
      "       Name     People     Area   BIP Currency\n",
      "4  Brazilia  208360000  8515770  1798     REAL\n",
      "2    Canada   36503097  9984670  1529      CAD\n",
      "0   Germany   82521653   357385  3466      EUR\n",
      "3     Italy   60501718   301338  1850      EUR\n",
      "1     Japan  126045000   377835  4938      YEN\n"
     ]
    }
   ],
   "source": [
    "## Sort by name alphabetically\n",
    "sort_by_name = df.sort_values(by = ['Name'])\n",
    "print(sort_by_name)"
   ]
  },
  {
   "cell_type": "code",
   "execution_count": 11,
   "id": "6121c4eb-39cb-48f4-b61a-a0d78462e311",
   "metadata": {},
   "outputs": [
    {
     "name": "stdout",
     "output_type": "stream",
     "text": [
      "       Name     People   Area   BIP Currency\n",
      "0   Germany   82521653  SMALL  3466      EUR\n",
      "1     Japan  126045000  SMALL  4938      YEN\n",
      "2    Canada   36503097    BIG  1529      CAD\n",
      "3     Italy   60501718  SMALL  1850      EUR\n",
      "4  Brazilia  208360000    BIG  1798     REAL\n"
     ]
    }
   ],
   "source": [
    "## Create a new data frame from the original where the area is changed as follows:\n",
    "## all countries with > 1000000 get BIG and <= 1000000 get SMALL in the cell replaced!\n",
    "repalce_countries = df\n",
    "repalce_countries.loc[repalce_countries['Area'] <= 1000000, 'Area'] = 'SMALL'\n",
    "repalce_countries.loc[repalce_countries['Area'] != 'SMALL', 'Area'] = 'BIG'\n",
    "print(repalce_countries)"
   ]
  },
  {
   "cell_type": "code",
   "execution_count": null,
   "id": "beffbb6b-634d-42fd-be72-4fe274d9db86",
   "metadata": {},
   "outputs": [],
   "source": []
  }
 ],
 "metadata": {
  "kernelspec": {
   "display_name": "Python 3 (ipykernel)",
   "language": "python",
   "name": "python3"
  },
  "language_info": {
   "codemirror_mode": {
    "name": "ipython",
    "version": 3
   },
   "file_extension": ".py",
   "mimetype": "text/x-python",
   "name": "python",
   "nbconvert_exporter": "python",
   "pygments_lexer": "ipython3",
   "version": "3.7.4"
  }
 },
 "nbformat": 4,
 "nbformat_minor": 5
}
