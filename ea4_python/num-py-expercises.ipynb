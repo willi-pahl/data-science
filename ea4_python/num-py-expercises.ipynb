{
 "cells": [
  {
   "cell_type": "code",
   "execution_count": 1,
   "id": "ec916138-d1d0-4d7a-a909-00e6cffac29f",
   "metadata": {},
   "outputs": [
    {
     "name": "stdout",
     "output_type": "stream",
     "text": [
      "1.21.5\n"
     ]
    }
   ],
   "source": [
    "# 1. exercises\n",
    "import numpy as np\n",
    "print(np.__version__)\n"
   ]
  },
  {
   "cell_type": "code",
   "execution_count": 2,
   "id": "02d7c020-0bf1-4a44-b9f1-a0cdccf61ffd",
   "metadata": {},
   "outputs": [
    {
     "data": {
      "text/plain": [
       "array([0, 1, 2, 3, 4, 5, 6, 7, 8, 9])"
      ]
     },
     "execution_count": 2,
     "metadata": {},
     "output_type": "execute_result"
    }
   ],
   "source": [
    "# 2. exercises\n",
    "arr = np.arange(10)\n",
    "arr"
   ]
  },
  {
   "cell_type": "code",
   "execution_count": 3,
   "id": "011719db-5502-4542-8f7c-035a050b8e09",
   "metadata": {},
   "outputs": [
    {
     "data": {
      "text/plain": [
       "array([[ True,  True,  True],\n",
       "       [ True,  True,  True],\n",
       "       [ True,  True,  True]])"
      ]
     },
     "execution_count": 3,
     "metadata": {},
     "output_type": "execute_result"
    }
   ],
   "source": [
    "# 3. exercises\n",
    "np.full((3, 3), True, dtype=bool)"
   ]
  },
  {
   "cell_type": "code",
   "execution_count": 4,
   "id": "54c2ae61-4b89-4e0f-9c8e-f0e8ba6e99c6",
   "metadata": {},
   "outputs": [
    {
     "data": {
      "text/plain": [
       "array([[ True,  True,  True],\n",
       "       [ True,  True,  True],\n",
       "       [ True,  True,  True]])"
      ]
     },
     "execution_count": 4,
     "metadata": {},
     "output_type": "execute_result"
    }
   ],
   "source": [
    "np.ones((3, 3), dtype=bool)"
   ]
  },
  {
   "cell_type": "code",
   "execution_count": 5,
   "id": "6af1f0fa-8320-470d-9dc6-a80e05f8616f",
   "metadata": {},
   "outputs": [
    {
     "data": {
      "text/plain": [
       "array([1, 3, 5, 7, 9])"
      ]
     },
     "execution_count": 5,
     "metadata": {},
     "output_type": "execute_result"
    }
   ],
   "source": [
    "# 4 .exercises\n",
    "arr = np.arange(10)\n",
    "arr[arr %2 == 1]"
   ]
  },
  {
   "cell_type": "code",
   "execution_count": 6,
   "id": "82c27cd3-ba02-4c47-9630-5fc03aba11be",
   "metadata": {},
   "outputs": [
    {
     "data": {
      "text/plain": [
       "array([ 0, -1,  2, -1,  4, -1,  6, -1,  8, -1])"
      ]
     },
     "execution_count": 6,
     "metadata": {},
     "output_type": "execute_result"
    }
   ],
   "source": [
    "# 5. exercises\n",
    "arr[arr %2 == 1] = -1\n",
    "arr"
   ]
  },
  {
   "cell_type": "code",
   "execution_count": 7,
   "id": "17c963c4-20da-4a8c-ad11-da9d56ea8799",
   "metadata": {},
   "outputs": [
    {
     "name": "stdout",
     "output_type": "stream",
     "text": [
      "[0 1 2 3 4 5 6 7 8 9]\n"
     ]
    },
    {
     "data": {
      "text/plain": [
       "array([ 0, -1,  2,  3, -1,  5,  6, -1,  8,  9])"
      ]
     },
     "execution_count": 7,
     "metadata": {},
     "output_type": "execute_result"
    }
   ],
   "source": [
    "# 6. exercises\n",
    "arr = np.arange(10)\n",
    "out = np.where(arr % 3 == 1, -1, arr)\n",
    "print(arr)\n",
    "out"
   ]
  },
  {
   "cell_type": "code",
   "execution_count": 8,
   "id": "9eff6062-a698-4ed6-adba-2fab0dd607e5",
   "metadata": {},
   "outputs": [
    {
     "data": {
      "text/plain": [
       "array([[0, 1],\n",
       "       [2, 3],\n",
       "       [4, 5],\n",
       "       [6, 7],\n",
       "       [8, 9]])"
      ]
     },
     "execution_count": 8,
     "metadata": {},
     "output_type": "execute_result"
    }
   ],
   "source": [
    "# 7. exercises\n",
    "arr = np.arange(10)\n",
    "arr.reshape(5, -1)"
   ]
  },
  {
   "cell_type": "code",
   "execution_count": 9,
   "id": "36ac6f66-5848-4112-a9b5-97e05c989378",
   "metadata": {},
   "outputs": [
    {
     "name": "stdout",
     "output_type": "stream",
     "text": [
      "[[0 1 2 3 4]\n",
      " [5 6 7 8 9]]\n",
      "[[2 2 2 2 2]\n",
      " [2 2 2 2 2]]\n"
     ]
    },
    {
     "data": {
      "text/plain": [
       "array([[0, 1, 2, 3, 4],\n",
       "       [5, 6, 7, 8, 9],\n",
       "       [2, 2, 2, 2, 2],\n",
       "       [2, 2, 2, 2, 2]])"
      ]
     },
     "execution_count": 9,
     "metadata": {},
     "output_type": "execute_result"
    }
   ],
   "source": [
    "# 8. exercises\n",
    "a = np.arange(10).reshape(2,-1)\n",
    "b = np.repeat(2, 10).reshape(2,-1)\n",
    "\n",
    "print(a)\n",
    "print(b)\n",
    "# Answers\n",
    "# Method 1: https://numpy.org/doc/stable/reference/generated/numpy.concatenate.html\n",
    "np.concatenate([a, b], axis=0)\n",
    "\n",
    "# Method 2: https://numpy.org/doc/stable/reference/generated/numpy.vstack.html\n",
    "np.vstack([a, b])\n",
    "\n",
    "# Method 3: https://numpy.org/doc/stable/reference/generated/numpy.r_.html\n",
    "np.r_[a, b]"
   ]
  },
  {
   "cell_type": "code",
   "execution_count": 10,
   "id": "a83b6e3b-e4d4-4f7f-b211-f7900c36b5aa",
   "metadata": {},
   "outputs": [
    {
     "data": {
      "text/plain": [
       "array([[0, 1, 2, 3, 4, 1, 1, 1, 1, 1],\n",
       "       [5, 6, 7, 8, 9, 1, 1, 1, 1, 1]])"
      ]
     },
     "execution_count": 10,
     "metadata": {},
     "output_type": "execute_result"
    }
   ],
   "source": [
    "# 9 exercises\n",
    "# np.arange: \n",
    "# np.reshape: \n",
    "a = np.arange(10).reshape(2,-1)\n",
    "b = np.repeat(1, 10).reshape(2,-1)\n",
    "\n",
    "# Answers\n",
    "# Method 1: https://numpy.org/doc/stable/reference/generated/numpy.concatenate.html\n",
    "np.concatenate([a, b], axis=1)\n",
    "\n",
    "# Method 2: https://numpy.org/doc/stable/reference/generated/numpy.hstack.html\n",
    "np.hstack([a, b])\n",
    "\n",
    "# Method 3: https://numpy.org/doc/stable/reference/generated/numpy.c_.html\n",
    "np.c_[a, b]"
   ]
  },
  {
   "cell_type": "code",
   "execution_count": 11,
   "id": "5050ef71-9ebb-42f1-a8d8-7d9f9c75096d",
   "metadata": {},
   "outputs": [
    {
     "data": {
      "text/plain": [
       "array([1, 1, 1, 2, 2, 2, 3, 3, 3, 1, 2, 3, 1, 2, 3, 1, 2, 3])"
      ]
     },
     "execution_count": 11,
     "metadata": {},
     "output_type": "execute_result"
    }
   ],
   "source": [
    "# 10. exercises\n",
    "a = np.array([1,2,3])\n",
    "# np.r_: https://numpy.org/doc/stable/reference/generated/numpy.r_.html\n",
    "# np.repeat: https://numpy.org/doc/stable/reference/generated/numpy.repeat.html\n",
    "# np.tile: https://numpy.org/doc/stable/reference/generated/numpy.tile.html\n",
    "np.r_[np.repeat(a, 3), np.tile(a, 3)]"
   ]
  },
  {
   "cell_type": "code",
   "execution_count": 12,
   "id": "c62e6815-3f76-42d5-98fd-64560bb5ef7c",
   "metadata": {},
   "outputs": [
    {
     "data": {
      "text/plain": [
       "array([2, 4])"
      ]
     },
     "execution_count": 12,
     "metadata": {},
     "output_type": "execute_result"
    }
   ],
   "source": [
    "# 11. exercises\n",
    "a = np.array([1,2,3,2,3,4,3,4,5,6])\n",
    "b = np.array([7,2,10,2,7,4,9,4,9,8])\n",
    "# np.intersect1d: https://numpy.org/doc/stable/reference/generated/numpy.intersect1d.html\n",
    "np.intersect1d(a,b)"
   ]
  },
  {
   "cell_type": "code",
   "execution_count": 13,
   "id": "642e0670-fc0b-4fc5-aab6-3fa2834f9212",
   "metadata": {},
   "outputs": [
    {
     "data": {
      "text/plain": [
       "array([2, 3, 4])"
      ]
     },
     "execution_count": 13,
     "metadata": {},
     "output_type": "execute_result"
    }
   ],
   "source": [
    "# 12. exercises\n",
    "a = np.array([1,2,3,4,5])\n",
    "b = np.array([5,6,7,1,9])\n",
    "# np.setdiff1d: https://numpy.org/doc/stable/reference/generated/numpy.setdiff1d.html\n",
    "np.setdiff1d(a,b)"
   ]
  },
  {
   "cell_type": "code",
   "execution_count": 14,
   "id": "43dec57b-91e1-40b4-8802-d88d9f415a84",
   "metadata": {},
   "outputs": [
    {
     "data": {
      "text/plain": [
       "(array([1, 3, 5, 7]),)"
      ]
     },
     "execution_count": 14,
     "metadata": {},
     "output_type": "execute_result"
    }
   ],
   "source": [
    "# 13. exercises\n",
    "a = np.array([1,2,3,2,3,4,3,4,5,6])\n",
    "b = np.array([7,2,10,2,7,4,9,4,9,8])\n",
    "# np.where: https://numpy.org/doc/stable/reference/generated/numpy.where.html\n",
    "np.where(a == b)"
   ]
  },
  {
   "cell_type": "code",
   "execution_count": 15,
   "id": "f9f9a389-c9da-4d4d-ab0f-fbde23d5fd0d",
   "metadata": {},
   "outputs": [
    {
     "data": {
      "text/plain": [
       "array([ 5,  6,  7,  8,  9, 10])"
      ]
     },
     "execution_count": 15,
     "metadata": {},
     "output_type": "execute_result"
    }
   ],
   "source": [
    "# 14. exercises\n",
    "a = np.arange(15)\n",
    "\n",
    "# Method 1\n",
    "index = np.where((a >= 5) & (a <= 10))\n",
    "a[index]\n",
    "\n",
    "# Method 2:\n",
    "# np.where: https://numpy.org/doc/stable/reference/generated/numpy.where.html\n",
    "# np.logical_and: https://numpy.org/doc/stable/reference/generated/numpy.logical_and.html\n",
    "index = np.where(np.logical_and(a>=5, a<=10))\n",
    "a[index]\n",
    "\n",
    "# Method 3: (thanks loganzk!)\n",
    "a[(a >= 5) & (a <= 10)]"
   ]
  },
  {
   "cell_type": "code",
   "execution_count": 16,
   "id": "098ee6cd-4b21-4d84-a862-54a1a4046b5f",
   "metadata": {},
   "outputs": [
    {
     "data": {
      "text/plain": [
       "5"
      ]
     },
     "execution_count": 16,
     "metadata": {},
     "output_type": "execute_result"
    }
   ],
   "source": [
    "# 15. exercises: Suche das größere Skalar aus zwei Arrays, an der Stellt i\n",
    "# 15. exercises part 1\n",
    "def maxx(x, y):\n",
    "    \"\"\"Get the maximum of two items\"\"\"\n",
    "    if x >= y:\n",
    "        return x\n",
    "    else:\n",
    "        return y\n",
    "maxx(1,5)"
   ]
  },
  {
   "cell_type": "code",
   "execution_count": 17,
   "id": "f25bdc0d-2bfd-46a8-9907-e842cba62334",
   "metadata": {},
   "outputs": [
    {
     "data": {
      "text/plain": [
       "array([6., 7., 9., 8., 9., 7., 5.])"
      ]
     },
     "execution_count": 17,
     "metadata": {},
     "output_type": "execute_result"
    }
   ],
   "source": [
    "# 15. exercises part 2\n",
    "# np.vectorize: \n",
    "pair_max = np.vectorize(maxx, otypes=[float])\n",
    "a = np.array([5, 7, 9, 8, 6, 4, 5])\n",
    "b = np.array([6, 3, 4, 8, 9, 7, 1])\n",
    "\n",
    "pair_max(a, b)"
   ]
  },
  {
   "cell_type": "code",
   "execution_count": 18,
   "id": "61e743f9-2a2b-499b-9f3f-95ec212753d7",
   "metadata": {},
   "outputs": [
    {
     "name": "stdout",
     "output_type": "stream",
     "text": [
      "[[0 1 2]\n",
      " [3 4 5]\n",
      " [6 7 8]]\n",
      "[[1 0 2]\n",
      " [4 3 5]\n",
      " [7 6 8]]\n"
     ]
    }
   ],
   "source": [
    "# 16. exercises\n",
    "arr = np.arange(9).reshape(3,3)\n",
    "print(arr)\n",
    "# Solution\n",
    "print(arr[:, [1,0,2]])"
   ]
  },
  {
   "cell_type": "code",
   "execution_count": 19,
   "id": "eb022a08-f350-4100-a7ac-e24f2ef27b6e",
   "metadata": {},
   "outputs": [
    {
     "name": "stdout",
     "output_type": "stream",
     "text": [
      "[[0 1 2]\n",
      " [3 4 5]\n",
      " [6 7 8]]\n",
      "[[3 4 5]\n",
      " [0 1 2]\n",
      " [6 7 8]]\n"
     ]
    }
   ],
   "source": [
    "# 17. exercises\n",
    "arr = np.arange(9).reshape(3,3)\n",
    "print(arr)\n",
    "# Solution\n",
    "print(arr[[1,0,2], :])"
   ]
  },
  {
   "cell_type": "code",
   "execution_count": 20,
   "id": "ad585f1d-ae8f-4dea-9efa-7738bc715757",
   "metadata": {},
   "outputs": [
    {
     "name": "stdout",
     "output_type": "stream",
     "text": [
      "[[0 1 2]\n",
      " [3 4 5]\n",
      " [6 7 8]]\n",
      "[[6 7 8]\n",
      " [3 4 5]\n",
      " [0 1 2]]\n"
     ]
    }
   ],
   "source": [
    "# 18. exercises\n",
    "arr = np.arange(9).reshape(3,3)\n",
    "print(arr)\n",
    "# Solution\n",
    "print(arr[::-1,:])"
   ]
  },
  {
   "cell_type": "code",
   "execution_count": 21,
   "id": "11740baf-45c5-4624-a9bd-c7e839a3bde9",
   "metadata": {},
   "outputs": [
    {
     "name": "stdout",
     "output_type": "stream",
     "text": [
      "[[0 1 2]\n",
      " [3 4 5]\n",
      " [6 7 8]]\n",
      "[[2 1 0]\n",
      " [5 4 3]\n",
      " [8 7 6]]\n"
     ]
    }
   ],
   "source": [
    "# 19. exercises\n",
    "arr = np.arange(9).reshape(3,3)\n",
    "print(arr)\n",
    "# Solution\n",
    "print(arr[:, ::-1])"
   ]
  },
  {
   "cell_type": "code",
   "execution_count": 22,
   "id": "b5765af8-e17f-4fdd-bcfd-6f4e104ff231",
   "metadata": {},
   "outputs": [
    {
     "name": "stdout",
     "output_type": "stream",
     "text": [
      "[[7.25419439 7.25640755 6.29418903]\n",
      " [7.79562659 8.92737622 8.90364694]\n",
      " [6.65903793 9.07913664 7.70801758]\n",
      " [9.32182035 5.88271416 5.21988508]\n",
      " [7.53867424 8.1109245  9.73279776]]\n",
      "[[7.05786789 9.14839635 9.79436451]\n",
      " [6.3974629  8.84056265 7.4044341 ]\n",
      " [7.54977711 8.83056203 6.25418261]\n",
      " [7.51011766 7.26798988 9.0997175 ]\n",
      " [6.91363347 8.51077505 8.84542045]]\n"
     ]
    }
   ],
   "source": [
    "# 20. exercises\n",
    "arr = np.arange(9).reshape(3,3)\n",
    "\n",
    "# Solution Method 1:\n",
    "# np.random:\n",
    "# np.randint:\n",
    "rand_arr = np.random.randint(low=5, high=10, size=(5,3)) + np.random.random((5,3))\n",
    "print(rand_arr)\n",
    "\n",
    "# Solution Method 2:\n",
    "# np.uniform:\n",
    "rand_arr = np.random.uniform(5,10, size=(5,3))\n",
    "print(rand_arr)"
   ]
  },
  {
   "cell_type": "code",
   "execution_count": 23,
   "id": "00431b64-6cb1-4cb1-b077-6d776347b853",
   "metadata": {},
   "outputs": [
    {
     "data": {
      "text/plain": [
       "array([[0.954, 0.758, 0.56 ],\n",
       "       [0.792, 0.477, 0.029],\n",
       "       [0.908, 0.974, 0.313],\n",
       "       [0.711, 0.737, 0.587]])"
      ]
     },
     "execution_count": 23,
     "metadata": {},
     "output_type": "execute_result"
    }
   ],
   "source": [
    "# 21. exercises\n",
    "rand_arr = np.random.random((5,3))\n",
    "\n",
    "# Create the random array\n",
    "rand_arr = np.random.random([5,3])\n",
    "\n",
    "# Limit to 3 decimal places\n",
    "# np.set_printoptions: \n",
    "np.set_printoptions(precision=3)\n",
    "rand_arr[:4]"
   ]
  },
  {
   "cell_type": "code",
   "execution_count": 24,
   "id": "2f2caeec-b6d9-4fd8-8099-4f781044a8d8",
   "metadata": {},
   "outputs": [
    {
     "name": "stdout",
     "output_type": "stream",
     "text": [
      "[[5.434e-04 2.784e-04 4.245e-04]\n",
      " [8.448e-04 4.719e-06 1.216e-04]\n",
      " [6.707e-04 8.259e-04 1.367e-04]]\n",
      "[[0.000543 0.000278 0.000425]\n",
      " [0.000845 0.000005 0.000122]\n",
      " [0.000671 0.000826 0.000137]]\n"
     ]
    }
   ],
   "source": [
    "# 22 exercises\n",
    "# Reset printoptions to default\n",
    "# np.set_printoptions\n",
    "np.set_printoptions(suppress=False)\n",
    "\n",
    "# np.random.seed: \n",
    "np.random.seed(100)\n",
    "rand_arr = np.random.random([3,3])/1e3\n",
    "print(rand_arr)\n",
    "np.set_printoptions(suppress=True, precision=6)  # precision is optional\n",
    "print(rand_arr)"
   ]
  },
  {
   "cell_type": "code",
   "execution_count": 25,
   "id": "4450fb4e-00dd-4456-842f-8e959aa0e19c",
   "metadata": {},
   "outputs": [
    {
     "data": {
      "text/plain": [
       "array([ 0,  1,  2, ..., 12, 13, 14])"
      ]
     },
     "execution_count": 25,
     "metadata": {},
     "output_type": "execute_result"
    }
   ],
   "source": [
    "# 23 exercises\n",
    "# np.set_printoptions: \n",
    "np.set_printoptions(threshold=6)\n",
    "a = np.arange(15)\n",
    "a"
   ]
  },
  {
   "cell_type": "code",
   "execution_count": 26,
   "id": "f54a158c-d90b-4b9b-8799-a04a71a11a0c",
   "metadata": {},
   "outputs": [
    {
     "name": "stdout",
     "output_type": "stream",
     "text": [
      "[ 0  1  2 ... 12 13 14]\n",
      "[ 0  1  2 ... 12 13 14]\n"
     ]
    }
   ],
   "source": [
    "# 24 exercises\n",
    "# np.set_printoptions: \n",
    "np.set_printoptions(threshold=6)\n",
    "a = np.arange(15)\n",
    "print(a)\n",
    "# Solution\n",
    "# np.nan\n",
    "np.set_printoptions(threshold=0)\n",
    "print(a)"
   ]
  },
  {
   "cell_type": "code",
   "execution_count": 27,
   "id": "03d310b4-0a8a-40f2-adb5-5b11f7c58816",
   "metadata": {},
   "outputs": [
    {
     "name": "stdout",
     "output_type": "stream",
     "text": [
      "[[b'5.1' b'3.5' b'1.4' b'0.2' b'Iris-setosa']\n",
      " [b'4.9' b'3.0' b'1.4' b'0.2' b'Iris-setosa']\n",
      " [b'4.7' b'3.2' b'1.3' b'0.2' b'Iris-setosa']\n",
      " ...\n",
      " [b'6.5' b'3.0' b'5.2' b'2.0' b'Iris-virginica']\n",
      " [b'6.2' b'3.4' b'5.4' b'2.3' b'Iris-virginica']\n",
      " [b'5.9' b'3.0' b'5.1' b'1.8' b'Iris-virginica']]\n"
     ]
    },
    {
     "data": {
      "text/plain": [
       "array([[b'5.1', b'3.5', b'1.4', b'0.2', b'Iris-setosa'],\n",
       "       [b'4.9', b'3.0', b'1.4', b'0.2', b'Iris-setosa'],\n",
       "       [b'4.7', b'3.2', b'1.3', b'0.2', b'Iris-setosa']], dtype=object)"
      ]
     },
     "execution_count": 27,
     "metadata": {},
     "output_type": "execute_result"
    }
   ],
   "source": [
    "# 25 exercises\n",
    "url = 'https://archive.ics.uci.edu/ml/machine-learning-databases/iris/iris.data'\n",
    "iris = np.genfromtxt(url, delimiter=',', dtype='object')\n",
    "names = ('sepallength', 'sepalwidth', 'petallength', 'petalwidth', 'species')\n",
    "print(iris)\n",
    "# Print the first 3 rows\n",
    "iris[:3]"
   ]
  },
  {
   "cell_type": "code",
   "execution_count": null,
   "id": "a4957e7d-e7a0-4fca-9e03-207b1a88472a",
   "metadata": {},
   "outputs": [],
   "source": []
  }
 ],
 "metadata": {
  "kernelspec": {
   "display_name": "Python 3 (ipykernel)",
   "language": "python",
   "name": "python3"
  },
  "language_info": {
   "codemirror_mode": {
    "name": "ipython",
    "version": 3
   },
   "file_extension": ".py",
   "mimetype": "text/x-python",
   "name": "python",
   "nbconvert_exporter": "python",
   "pygments_lexer": "ipython3",
   "version": "3.7.4"
  }
 },
 "nbformat": 4,
 "nbformat_minor": 5
}
