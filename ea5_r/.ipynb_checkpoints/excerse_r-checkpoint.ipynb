{
 "cells": [
  {
   "cell_type": "code",
   "execution_count": 1,
   "id": "8a7e5096-3dc2-4cf4-9801-dcf81244033c",
   "metadata": {},
   "outputs": [
    {
     "name": "stdout",
     "output_type": "stream",
     "text": [
      "[1] 62\n"
     ]
    }
   ],
   "source": [
    "# Exercise 1 (R)\n",
    "max <- 100\n",
    "min <- 1\n",
    "number <- floor(runif(1, min, max))\n",
    "print(number)"
   ]
  },
  {
   "cell_type": "code",
   "execution_count": 2,
   "id": "bff8041f-20f3-4c6c-89b1-548ac2ed8eec",
   "metadata": {},
   "outputs": [
    {
     "name": "stdin",
     "output_type": "stream",
     "text": [
      "Rate die Zahl: 61\n",
      "Eine großere Zahl \n",
      " Rate die Zahl: 62\n"
     ]
    },
    {
     "name": "stdout",
     "output_type": "stream",
     "text": [
      "[1] \"Geschafft!\"\n"
     ]
    }
   ],
   "source": [
    "input_str <- readline(prompt = \"Rate die Zahl:\")\n",
    "input <- strtoi(input_str, base=0L)\n",
    "while (input != number) {\n",
    "    if (input > number) {\n",
    "        input_str <- readline(prompt = \"Eine kleiner Zahl \\n Rate die Zahl:\")\n",
    "        input <- strtoi(input_str, base=0L)\n",
    "    } else {\n",
    "        input_str <- readline(prompt = \"Eine großere Zahl \\n Rate die Zahl:\")\n",
    "        input <- strtoi(input_str, base=0L)\n",
    "    }\n",
    "}\n",
    "print(\"Geschafft!\")"
   ]
  },
  {
   "cell_type": "code",
   "execution_count": 3,
   "id": "045e9e97-a620-4eb9-a17b-15f79e8a84a8",
   "metadata": {},
   "outputs": [
    {
     "data": {
      "text/html": [
       "<table class=\"dataframe\">\n",
       "<caption>A data.frame: 12 × 5</caption>\n",
       "<thead>\n",
       "\t<tr><th></th><th scope=col>agegp</th><th scope=col>alcgp</th><th scope=col>tobgp</th><th scope=col>ncases</th><th scope=col>ncontrols</th></tr>\n",
       "\t<tr><th></th><th scope=col>&lt;chr&gt;</th><th scope=col>&lt;chr&gt;</th><th scope=col>&lt;chr&gt;</th><th scope=col>&lt;int&gt;</th><th scope=col>&lt;int&gt;</th></tr>\n",
       "</thead>\n",
       "<tbody>\n",
       "\t<tr><th scope=row>1</th><td>25-34</td><td>0-39g/day</td><td>0-9g/day</td><td>0</td><td>40</td></tr>\n",
       "\t<tr><th scope=row>2</th><td>25-34</td><td>0-39g/day</td><td>10-19   </td><td>0</td><td>10</td></tr>\n",
       "\t<tr><th scope=row>3</th><td>25-34</td><td>0-39g/day</td><td>20-29   </td><td>0</td><td> 6</td></tr>\n",
       "\t<tr><th scope=row>4</th><td>25-34</td><td>0-39g/day</td><td>30+     </td><td>0</td><td> 5</td></tr>\n",
       "\t<tr><th scope=row>5</th><td>25-34</td><td>40-79    </td><td>0-9g/day</td><td>0</td><td>27</td></tr>\n",
       "\t<tr><th scope=row>6</th><td>25-34</td><td>40-79    </td><td>10-19   </td><td>0</td><td> 7</td></tr>\n",
       "\t<tr><th scope=row>7</th><td>25-34</td><td>40-79    </td><td>20-29   </td><td>0</td><td> 4</td></tr>\n",
       "\t<tr><th scope=row>8</th><td>25-34</td><td>40-79    </td><td>30+     </td><td>0</td><td> 7</td></tr>\n",
       "\t<tr><th scope=row>9</th><td>25-34</td><td>80-119   </td><td>0-9g/day</td><td>0</td><td> 2</td></tr>\n",
       "\t<tr><th scope=row>10</th><td>25-34</td><td>80-119   </td><td>10-19   </td><td>0</td><td> 1</td></tr>\n",
       "\t<tr><th scope=row>11</th><td>25-34</td><td>80-119   </td><td>30+     </td><td>0</td><td> 2</td></tr>\n",
       "\t<tr><th scope=row>12</th><td>25-34</td><td>120+     </td><td>0-9g/day</td><td>0</td><td> 1</td></tr>\n",
       "</tbody>\n",
       "</table>\n"
      ],
      "text/latex": [
       "A data.frame: 12 × 5\n",
       "\\begin{tabular}{r|lllll}\n",
       "  & agegp & alcgp & tobgp & ncases & ncontrols\\\\\n",
       "  & <chr> & <chr> & <chr> & <int> & <int>\\\\\n",
       "\\hline\n",
       "\t1 & 25-34 & 0-39g/day & 0-9g/day & 0 & 40\\\\\n",
       "\t2 & 25-34 & 0-39g/day & 10-19    & 0 & 10\\\\\n",
       "\t3 & 25-34 & 0-39g/day & 20-29    & 0 &  6\\\\\n",
       "\t4 & 25-34 & 0-39g/day & 30+      & 0 &  5\\\\\n",
       "\t5 & 25-34 & 40-79     & 0-9g/day & 0 & 27\\\\\n",
       "\t6 & 25-34 & 40-79     & 10-19    & 0 &  7\\\\\n",
       "\t7 & 25-34 & 40-79     & 20-29    & 0 &  4\\\\\n",
       "\t8 & 25-34 & 40-79     & 30+      & 0 &  7\\\\\n",
       "\t9 & 25-34 & 80-119    & 0-9g/day & 0 &  2\\\\\n",
       "\t10 & 25-34 & 80-119    & 10-19    & 0 &  1\\\\\n",
       "\t11 & 25-34 & 80-119    & 30+      & 0 &  2\\\\\n",
       "\t12 & 25-34 & 120+      & 0-9g/day & 0 &  1\\\\\n",
       "\\end{tabular}\n"
      ],
      "text/markdown": [
       "\n",
       "A data.frame: 12 × 5\n",
       "\n",
       "| <!--/--> | agegp &lt;chr&gt; | alcgp &lt;chr&gt; | tobgp &lt;chr&gt; | ncases &lt;int&gt; | ncontrols &lt;int&gt; |\n",
       "|---|---|---|---|---|---|\n",
       "| 1 | 25-34 | 0-39g/day | 0-9g/day | 0 | 40 |\n",
       "| 2 | 25-34 | 0-39g/day | 10-19    | 0 | 10 |\n",
       "| 3 | 25-34 | 0-39g/day | 20-29    | 0 |  6 |\n",
       "| 4 | 25-34 | 0-39g/day | 30+      | 0 |  5 |\n",
       "| 5 | 25-34 | 40-79     | 0-9g/day | 0 | 27 |\n",
       "| 6 | 25-34 | 40-79     | 10-19    | 0 |  7 |\n",
       "| 7 | 25-34 | 40-79     | 20-29    | 0 |  4 |\n",
       "| 8 | 25-34 | 40-79     | 30+      | 0 |  7 |\n",
       "| 9 | 25-34 | 80-119    | 0-9g/day | 0 |  2 |\n",
       "| 10 | 25-34 | 80-119    | 10-19    | 0 |  1 |\n",
       "| 11 | 25-34 | 80-119    | 30+      | 0 |  2 |\n",
       "| 12 | 25-34 | 120+      | 0-9g/day | 0 |  1 |\n",
       "\n"
      ],
      "text/plain": [
       "   agegp alcgp     tobgp    ncases ncontrols\n",
       "1  25-34 0-39g/day 0-9g/day 0      40       \n",
       "2  25-34 0-39g/day 10-19    0      10       \n",
       "3  25-34 0-39g/day 20-29    0       6       \n",
       "4  25-34 0-39g/day 30+      0       5       \n",
       "5  25-34 40-79     0-9g/day 0      27       \n",
       "6  25-34 40-79     10-19    0       7       \n",
       "7  25-34 40-79     20-29    0       4       \n",
       "8  25-34 40-79     30+      0       7       \n",
       "9  25-34 80-119    0-9g/day 0       2       \n",
       "10 25-34 80-119    10-19    0       1       \n",
       "11 25-34 80-119    30+      0       2       \n",
       "12 25-34 120+      0-9g/day 0       1       "
      ]
     },
     "metadata": {},
     "output_type": "display_data"
    }
   ],
   "source": [
    "# Exercise 2 (R)\n",
    "datasets = read.csv(\"dataset-87569.csv\")\n",
    "head(datasets, 12)"
   ]
  },
  {
   "cell_type": "code",
   "execution_count": 4,
   "id": "f1206e5a-7a39-4452-92be-18a6ea6a61fd",
   "metadata": {},
   "outputs": [
    {
     "data": {
      "text/html": [
       "<table class=\"dataframe\">\n",
       "<caption>A data.frame: 6 × 2</caption>\n",
       "<thead>\n",
       "\t<tr><th></th><th scope=col>Altersgruppe</th><th scope=col>Fälle</th></tr>\n",
       "\t<tr><th></th><th scope=col>&lt;ord&gt;</th><th scope=col>&lt;dbl&gt;</th></tr>\n",
       "</thead>\n",
       "<tbody>\n",
       "\t<tr><th scope=row>1</th><td>25-34</td><td>0</td></tr>\n",
       "\t<tr><th scope=row>2</th><td>25-34</td><td>0</td></tr>\n",
       "\t<tr><th scope=row>3</th><td>25-34</td><td>0</td></tr>\n",
       "\t<tr><th scope=row>4</th><td>25-34</td><td>0</td></tr>\n",
       "\t<tr><th scope=row>5</th><td>25-34</td><td>0</td></tr>\n",
       "\t<tr><th scope=row>6</th><td>25-34</td><td>0</td></tr>\n",
       "</tbody>\n",
       "</table>\n"
      ],
      "text/latex": [
       "A data.frame: 6 × 2\n",
       "\\begin{tabular}{r|ll}\n",
       "  & Altersgruppe & Fälle\\\\\n",
       "  & <ord> & <dbl>\\\\\n",
       "\\hline\n",
       "\t1 & 25-34 & 0\\\\\n",
       "\t2 & 25-34 & 0\\\\\n",
       "\t3 & 25-34 & 0\\\\\n",
       "\t4 & 25-34 & 0\\\\\n",
       "\t5 & 25-34 & 0\\\\\n",
       "\t6 & 25-34 & 0\\\\\n",
       "\\end{tabular}\n"
      ],
      "text/markdown": [
       "\n",
       "A data.frame: 6 × 2\n",
       "\n",
       "| <!--/--> | Altersgruppe &lt;ord&gt; | Fälle &lt;dbl&gt; |\n",
       "|---|---|---|\n",
       "| 1 | 25-34 | 0 |\n",
       "| 2 | 25-34 | 0 |\n",
       "| 3 | 25-34 | 0 |\n",
       "| 4 | 25-34 | 0 |\n",
       "| 5 | 25-34 | 0 |\n",
       "| 6 | 25-34 | 0 |\n",
       "\n"
      ],
      "text/plain": [
       "  Altersgruppe Fälle\n",
       "1 25-34        0    \n",
       "2 25-34        0    \n",
       "3 25-34        0    \n",
       "4 25-34        0    \n",
       "5 25-34        0    \n",
       "6 25-34        0    "
      ]
     },
     "metadata": {},
     "output_type": "display_data"
    }
   ],
   "source": [
    "colnames(esoph) <- c(\"Altersgruppe\", \"Alkoholkonsum\", \"Tabakkomsum\", \"Fälle\", \"Kontrollen\")\n",
    "X <- subset(esoph, select = c(\"Altersgruppe\", \"Fälle\"))\n",
    "head(X)"
   ]
  },
  {
   "cell_type": "code",
   "execution_count": 5,
   "id": "3f2199da-aec6-4c09-962a-cc73149ce648",
   "metadata": {},
   "outputs": [
    {
     "data": {
      "image/png": "[encoded data removed]",
      "text/plain": [
       "Plot with title “Speiseröhrenkrebs Risiken nach Altersgruppe”"
      ]
     },
     "metadata": {
      "image/png": {
       "height": 420,
       "width": 420
      }
     },
     "output_type": "display_data"
    }
   ],
   "source": [
    "plot(X, main = \"Speiseröhrenkrebs Risiken nach Altersgruppe\")"
   ]
  },
  {
   "cell_type": "code",
   "execution_count": 6,
   "id": "d4beb693-eb07-442d-aa34-d9cb234110ba",
   "metadata": {},
   "outputs": [
    {
     "data": {
      "text/html": [
       "<table class=\"dataframe\">\n",
       "<caption>A data.frame: 6 × 3</caption>\n",
       "<thead>\n",
       "\t<tr><th></th><th scope=col>Alkoholkonsum</th><th scope=col>Tabakkomsum</th><th scope=col>Fälle</th></tr>\n",
       "\t<tr><th></th><th scope=col>&lt;ord&gt;</th><th scope=col>&lt;ord&gt;</th><th scope=col>&lt;dbl&gt;</th></tr>\n",
       "</thead>\n",
       "<tbody>\n",
       "\t<tr><th scope=row>1</th><td>0-39g/day</td><td>0-9g/day</td><td>0</td></tr>\n",
       "\t<tr><th scope=row>2</th><td>0-39g/day</td><td>10-19   </td><td>0</td></tr>\n",
       "\t<tr><th scope=row>3</th><td>0-39g/day</td><td>20-29   </td><td>0</td></tr>\n",
       "\t<tr><th scope=row>4</th><td>0-39g/day</td><td>30+     </td><td>0</td></tr>\n",
       "\t<tr><th scope=row>5</th><td>40-79    </td><td>0-9g/day</td><td>0</td></tr>\n",
       "\t<tr><th scope=row>6</th><td>40-79    </td><td>10-19   </td><td>0</td></tr>\n",
       "</tbody>\n",
       "</table>\n"
      ],
      "text/latex": [
       "A data.frame: 6 × 3\n",
       "\\begin{tabular}{r|lll}\n",
       "  & Alkoholkonsum & Tabakkomsum & Fälle\\\\\n",
       "  & <ord> & <ord> & <dbl>\\\\\n",
       "\\hline\n",
       "\t1 & 0-39g/day & 0-9g/day & 0\\\\\n",
       "\t2 & 0-39g/day & 10-19    & 0\\\\\n",
       "\t3 & 0-39g/day & 20-29    & 0\\\\\n",
       "\t4 & 0-39g/day & 30+      & 0\\\\\n",
       "\t5 & 40-79     & 0-9g/day & 0\\\\\n",
       "\t6 & 40-79     & 10-19    & 0\\\\\n",
       "\\end{tabular}\n"
      ],
      "text/markdown": [
       "\n",
       "A data.frame: 6 × 3\n",
       "\n",
       "| <!--/--> | Alkoholkonsum &lt;ord&gt; | Tabakkomsum &lt;ord&gt; | Fälle &lt;dbl&gt; |\n",
       "|---|---|---|---|\n",
       "| 1 | 0-39g/day | 0-9g/day | 0 |\n",
       "| 2 | 0-39g/day | 10-19    | 0 |\n",
       "| 3 | 0-39g/day | 20-29    | 0 |\n",
       "| 4 | 0-39g/day | 30+      | 0 |\n",
       "| 5 | 40-79     | 0-9g/day | 0 |\n",
       "| 6 | 40-79     | 10-19    | 0 |\n",
       "\n"
      ],
      "text/plain": [
       "  Alkoholkonsum Tabakkomsum Fälle\n",
       "1 0-39g/day     0-9g/day    0    \n",
       "2 0-39g/day     10-19       0    \n",
       "3 0-39g/day     20-29       0    \n",
       "4 0-39g/day     30+         0    \n",
       "5 40-79         0-9g/day    0    \n",
       "6 40-79         10-19       0    "
      ]
     },
     "metadata": {},
     "output_type": "display_data"
    },
    {
     "data": {
      "image/png": "[encoded data removed]",
      "text/plain": [
       "Plot with title “Mittlere Fallzahlen nach Alkoholkonsum”"
      ]
     },
     "metadata": {
      "image/png": {
       "height": 420,
       "width": 420
      }
     },
     "output_type": "display_data"
    }
   ],
   "source": [
    "Y <- subset(esoph, select = c(\"Alkoholkonsum\", \"Tabakkomsum\", \"Fälle\"))\n",
    "head(Y)\n",
    "heights <- tapply(Y$`Fälle`, Y$`Alkoholkonsum`, mean)\n",
    "barplot(heights, main = \"Mittlere Fallzahlen nach Alkoholkonsum\", \n",
    "        names.arg = c(\"0-39 g/Tag\", \"40-79 g/Tag\", \"80-119 g/Tag\", \"120+ g/Tag\"),\n",
    "        ylab = \"Anzahl der Fälle\")"
   ]
  },
  {
   "cell_type": "code",
   "execution_count": 7,
   "id": "335a4641-a0b2-4baa-b0ad-473102f954d6",
   "metadata": {},
   "outputs": [
    {
     "data": {
      "image/png": "[encoded data removed]",
      "text/plain": [
       "Plot with title “Mittlere Fallzahlen nach Tabakkonsum”"
      ]
     },
     "metadata": {
      "image/png": {
       "height": 420,
       "width": 420
      }
     },
     "output_type": "display_data"
    }
   ],
   "source": [
    "heights2 <- tapply(Y$`Fälle`, Y$`Tabakkomsum`, mean)\n",
    "barplot(heights2, main = \"Mittlere Fallzahlen nach Tabakkonsum\",\n",
    "        names.arg = c(\"0-9 g/Tag\", \"10-19 g/Tag\", \"20-29 g/Tag\", \"30+ g/Tag\"),\n",
    "        ylab = \"Anzahl der Fälle\")"
   ]
  },
  {
   "cell_type": "code",
   "execution_count": null,
   "id": "db3a7af2-f3ca-40b8-b50b-c50d879efa5d",
   "metadata": {},
   "outputs": [],
   "source": []
  }
 ],
 "metadata": {
  "kernelspec": {
   "display_name": "R",
   "language": "R",
   "name": "ir"
  },
  "language_info": {
   "codemirror_mode": "r",
   "file_extension": ".r",
   "mimetype": "text/x-r-source",
   "name": "R",
   "pygments_lexer": "r",
   "version": "4.0.4"
  }
 },
 "nbformat": 4,
 "nbformat_minor": 5
}
