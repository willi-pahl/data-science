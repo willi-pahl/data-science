{
 "cells": [
  {
   "cell_type": "code",
   "execution_count": 1,
   "id": "0b40e665-942f-4b1c-81bf-d05f16456c46",
   "metadata": {},
   "outputs": [],
   "source": [
    "# Data set load.\n",
    "import numpy as np\n",
    "import pandas as pd\n",
    "pathname = '/home/pahl/Dokumente/Studium/Module/6_DS/github/ea6_data_cleaning/'\n",
    "filename = 'dsm-beuth-edl-demodata-dirty.csv'\n",
    "df = pd.read_csv(pathname + filename)\n",
    "# df"
   ]
  },
  {
   "cell_type": "code",
   "execution_count": 2,
   "id": "fd82938a-5751-4fa3-adaf-d15f7b0fdd43",
   "metadata": {},
   "outputs": [],
   "source": [
    "# Empty data set, 18, 23\n",
    "df.dropna(how='all', inplace=True)\n",
    "#df"
   ]
  },
  {
   "cell_type": "code",
   "execution_count": 3,
   "id": "72a92fa0-b0d4-49ae-bccd-1cb13d9a71ae",
   "metadata": {},
   "outputs": [],
   "source": [
    "# Double data set, 15, 16"
   ]
  },
  {
   "cell_type": "code",
   "execution_count": 4,
   "id": "cd18b147-75ff-4f94-98cb-15c4f46c0d46",
   "metadata": {},
   "outputs": [],
   "source": [
    "# Empty data set id, 22\n",
    "# magic number 2, because 1. always one more than records and 2 since started with 1 not with 0.\n",
    "numbers = list(range(1, df.shape[0] + 2))\n",
    "daFr = pd.DataFrame({'id': numbers})\n",
    "df.update(daFr)\n",
    "#df"
   ]
  },
  {
   "cell_type": "code",
   "execution_count": 5,
   "id": "59367d8f-1e6d-4cb3-b3cd-7d9aa9d04a68",
   "metadata": {},
   "outputs": [],
   "source": [
    "# Negativ age, 19"
   ]
  },
  {
   "cell_type": "code",
   "execution_count": 6,
   "id": "b31dae86-dedd-4e3b-b37c-eaa415a8c112",
   "metadata": {},
   "outputs": [
    {
     "name": "stdout",
     "output_type": "stream",
     "text": [
      "ready\n"
     ]
    }
   ],
   "source": [
    "# Privacy, remove all records under the age of 16, 4, 11, 17\n",
    "print('ready')"
   ]
  }
 ],
 "metadata": {
  "kernelspec": {
   "display_name": "Python 3 (ipykernel)",
   "language": "python",
   "name": "python3"
  },
  "language_info": {
   "codemirror_mode": {
    "name": "ipython",
    "version": 3
   },
   "file_extension": ".py",
   "mimetype": "text/x-python",
   "name": "python",
   "nbconvert_exporter": "python",
   "pygments_lexer": "ipython3",
   "version": "3.9.2"
  }
 },
 "nbformat": 4,
 "nbformat_minor": 5
}
