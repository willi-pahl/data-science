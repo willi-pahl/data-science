{
 "cells": [
  {
   "cell_type": "markdown",
   "id": "68634fd8-7f5f-486f-a596-e8b669606c70",
   "metadata": {},
   "source": [
    "Data Scienec Books\n",
    "https://github.com/jakevdp/PythonDataScienceHandbook\n",
    "\n",
    "Datensatzsuche von Google\n",
    "https://datasetsearch.research.google.com/"
   ]
  }
 ],
 "metadata": {
  "kernelspec": {
   "display_name": "Python 3 (ipykernel)",
   "language": "python",
   "name": "python3"
  },
  "language_info": {
   "codemirror_mode": {
    "name": "ipython",
    "version": 3
   },
   "file_extension": ".py",
   "mimetype": "text/x-python",
   "name": "python",
   "nbconvert_exporter": "python",
   "pygments_lexer": "ipython3",
   "version": "3.9.2"
  }
 },
 "nbformat": 4,
 "nbformat_minor": 5
}
