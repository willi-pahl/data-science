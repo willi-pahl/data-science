{
 "cells": [
  {
   "cell_type": "markdown",
   "id": "57f8c98e-60e3-4f4b-a75d-dd30e3b58870",
   "metadata": {},
   "source": [
    "Im Beispiel der logistischen Regression habe ich Ihnen neue Irisdaten gegeben:\n",
    "\n",
    "4.8,2.5,5.3,2.4\n",
    "Bitte klassifizieren Sie diese Blume mit KNN (mit allen verfügbaren Bibliotheken, wie Sie möchten)\n",
    "\n",
    "Hier ist ein gutes Scikit-Beispiel, das Sie verwenden können:\n",
    "\n",
    "Referenz [1]\n",
    "Als Notizbuch verpackt [2]"
   ]
  },
  {
   "cell_type": "code",
   "execution_count": null,
   "id": "13621c50-a145-47db-a814-93c43ea8a328",
   "metadata": {},
   "outputs": [],
   "source": []
  }
 ],
 "metadata": {
  "kernelspec": {
   "display_name": "Python 3 (ipykernel)",
   "language": "python",
   "name": "python3"
  },
  "language_info": {
   "codemirror_mode": {
    "name": "ipython",
    "version": 3
   },
   "file_extension": ".py",
   "mimetype": "text/x-python",
   "name": "python",
   "nbconvert_exporter": "python",
   "pygments_lexer": "ipython3",
   "version": "3.9.2"
  }
 },
 "nbformat": 4,
 "nbformat_minor": 5
}
