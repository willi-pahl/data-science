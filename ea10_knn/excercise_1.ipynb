{
 "cells": [
  {
   "cell_type": "markdown",
   "id": "2a3ca0ae-a93a-4ccb-9bea-157f7fb961e9",
   "metadata": {},
   "source": [
    "Implementieren Sie KNN von Hand für nur 2 Dimensionen mit Normalisierung.\n",
    "\n",
    "Das ist einfach, weil:\n",
    "\n",
    "funct: Sie normalisieren Ihre Daten in einer anderen Tabelle\n",
    "funct: Sie codieren eine einfache euklidische Abstandsfunktion\n",
    "Funktion: Man nimmt einen Punkt und berechnet die Entfernung zu allen Punkten\n",
    "funct: Du nimmst die Liste von oben und sortierst sie\n",
    "funct: Sie aggregieren nach Zielvariable\n",
    "Funktion: Sie nehmen das Maximum, um die Zielklasse zu bestimmen\n",
    "Du bist fertig!\n",
    "\n",
    "Hinweis: Dies ist die einzige Möglichkeit, einen maschinellen Lernalgorithmus von Hand zu implementieren und so etwas von Grund auf zu lernen!"
   ]
  },
  {
   "cell_type": "code",
   "execution_count": 1,
   "id": "bd5e471d-dc93-4e38-a020-e612808b8c40",
   "metadata": {},
   "outputs": [],
   "source": [
    "# Abhängigkeiten laden.\n",
    "import pandas as pd\n",
    "import numpy as np\n",
    "import matplotlib.pyplot as plt\n",
    "import math as m\n",
    "\n",
    "from sklearn.cluster import KMeans"
   ]
  },
  {
   "cell_type": "code",
   "execution_count": 2,
   "id": "5d23e6d7-57f1-4dbf-a71b-883b87b88dca",
   "metadata": {},
   "outputs": [],
   "source": [
    "# Farben definieren, um die Cluster besser zu erkennen.\n",
    "class color:\n",
    "    PURPLE = '\\033[95m'\n",
    "    CYAN = '\\033[96m'\n",
    "    DARKCYAN = '\\033[36m'\n",
    "    BLUE = '\\033[94m'\n",
    "    GREEN = '\\033[92m'\n",
    "    YELLOW = '\\033[93m'\n",
    "    RED = '\\033[91m'\n",
    "    BOLD = '\\033[1m'\n",
    "    UNDERLNE = '\\033[4m'\n",
    "    END = '\\033[0m'"
   ]
  },
  {
   "cell_type": "code",
   "execution_count": 3,
   "id": "8890f332-60f1-4673-bb76-c89189191ba5",
   "metadata": {},
   "outputs": [],
   "source": [
    "def plot_data(data):\n",
    "    \"\"\"\n",
    "    Ploten der Daten, eines zweidimensionalen Arrays.\n",
    "    Parameters\n",
    "    ----------\n",
    "    data: array\n",
    "        Daten die angezeigt werden sollen.\n",
    "    \"\"\"\n",
    "    plt.figure(figsize=(7.5,6))\n",
    "    for i in range(len(data)):\n",
    "        plt.scatter(data[i][0],data[i][1],color='k')"
   ]
  },
  {
   "cell_type": "code",
   "execution_count": 4,
   "id": "d718ce46-d5d4-4c79-a57a-8a9421294b73",
   "metadata": {},
   "outputs": [],
   "source": [
    "def random_centroid(data,k):\n",
    "    \"\"\"\n",
    "    Zufällige Datenpunkte auswählen, die als Zentrum dienen.\n",
    "    Parameters\n",
    "    ----------\n",
    "    data: array\n",
    "        Daten aus den die zufälligen Zentren ausgewählt werden.\n",
    "    k: integer\n",
    "        Anzahl der zufälligen Zentren.\n",
    "    \n",
    "    Returns\n",
    "    -------\n",
    "    centroids: array\n",
    "        Liste der zufälligen Zentren.\n",
    "    \"\"\"\n",
    "    random_idx=[np.random.randint(len(data)) for i in range(k)]\n",
    "    centroids=[]\n",
    "    for i in random_idx:\n",
    "        centroids.append(data[i])\n",
    "    return centroids"
   ]
  },
  {
   "cell_type": "code",
   "execution_count": 5,
   "id": "d7902613-5e96-4026-9ebe-5c2de01a167c",
   "metadata": {},
   "outputs": [],
   "source": [
    "def assign_cluster(data,ini_centroids,k):\n",
    "    \"\"\"\n",
    "    Festlegen der Datenpunkt, zu welchen Cluster sie gehören sollen.\n",
    "    Parameters\n",
    "    ----------\n",
    "    data: array\n",
    "    ini_centroids: array\n",
    "        die zufälligen Zentren.\n",
    "    k: int\n",
    "        Anzahl der Cluster.\n",
    "    \n",
    "    Returns\n",
    "    -------\n",
    "    np.asarray: array\n",
    "        Aufgeteilte Clusterdaten.\n",
    "    \"\"\"\n",
    "    cluster=[]\n",
    "    for i in range(len(data)):\n",
    "        euc_dist=[]\n",
    "        for j in range(k):\n",
    "            euc_dist.append(np.linalg.norm(np.subtract(data[i],ini_centroids[j])))\n",
    "        idx=np.argmin(euc_dist)\n",
    "        cluster.append(idx)\n",
    "    return np.asarray(cluster)"
   ]
  },
  {
   "cell_type": "code",
   "execution_count": 6,
   "id": "d237cb0a-a034-4ae3-ab0e-72d1817c8ded",
   "metadata": {},
   "outputs": [],
   "source": [
    "def compute_centroid(data,clusters,k):\n",
    "    \"\"\"\n",
    "    Datenpunkte für das Cluster neu berechnen.\n",
    "    Parameters\n",
    "    ----------\n",
    "    data: array\n",
    "        Originaldaten.\n",
    "    cluster: array\n",
    "        Bestehendes Cluster.\n",
    "    k: integer\n",
    "        Anzahl der Cluster.\n",
    "    \n",
    "    Returns\n",
    "    -------\n",
    "    np.asarray: array\n",
    "        Neu berechnetes Cluster.\n",
    "    \"\"\"\n",
    "    centroid = []\n",
    "    for i in range(k):\n",
    "        temp_arr=[]\n",
    "        for j in range(len(data)):\n",
    "            if clusters[j]==i:\n",
    "                temp_arr.append(data[j])\n",
    "        centroid.append(np.mean(temp_arr,axis=0))\n",
    "    return np.asarray(centroid)"
   ]
  },
  {
   "cell_type": "code",
   "execution_count": 7,
   "id": "84552117-6c85-4ccb-9dc6-be4ccda0149d",
   "metadata": {},
   "outputs": [],
   "source": [
    "def difference(prev,nxt):\n",
    "    \"\"\"\n",
    "    Berechnet die Distanz zwischen neuem und altem Zentrum.\n",
    "    Parameters\n",
    "    ----------\n",
    "    prev: array\n",
    "        Daten das altes Zentrums.\n",
    "    nxt: array\n",
    "        Daten des neuen Zentrums.\n",
    "    \n",
    "    Returns\n",
    "    -------\n",
    "    diff: integer\n",
    "        Distanz zwischen den Punkten.\n",
    "    \"\"\"\n",
    "    diff=0\n",
    "    for i in range(len(prev)):\n",
    "        diff+=np.linalg.norm(prev[i]-nxt[i])\n",
    "    return diff"
   ]
  },
  {
   "cell_type": "code",
   "execution_count": 8,
   "id": "cf1d10b6-1395-4a7c-8bbd-e137c3c28934",
   "metadata": {},
   "outputs": [],
   "source": [
    "def show_clusters(data,clusters,centroids,ini_centroids,mark_centroid=True,show_ini_centroid=True,show_plots=True):\n",
    "    \"\"\"\n",
    "    Plotten der Daten.\n",
    "    Parameter\n",
    "    ---------\n",
    "    data: array\n",
    "        Originale Daten.\n",
    "    clusters: array\n",
    "        Liste der Cluster.\n",
    "    centroids: array\n",
    "        Liste mit den Zentren.\n",
    "    ini_centroids: array\n",
    "        Liste mit den ersten Zentren.\n",
    "    mark_centroid: boolean\n",
    "        Soll das Zentrum markiert werden.\n",
    "    show_ini_centroid: boolean\n",
    "        Sollen die ersten Zentren angezeigt werden.\n",
    "    show_plots: boolean\n",
    "        Soll geplottet werden.\n",
    "    \"\"\"\n",
    "    cols={0:'r',1:'b',2:'g',3:'coral',4:'c',5:'lime'}\n",
    "    fig,ax=plt.subplots(figsize=(7.5,6));\n",
    "    for i in range(len(clusters)):\n",
    "        ax.scatter(data[i][0],data[i][1],color=cols[clusters[i]])\n",
    "    for j in range(len(centroids)):\n",
    "        ax.scatter(centroids[j][0],centroids[j][1],marker='*',color=cols[j])\n",
    "        if show_ini_centroid==True:\n",
    "            ax.scatter(ini_centroids[j][0],ini_centroids[j][1],marker=\"+\",s=150,color=cols[j])\n",
    "    if mark_centroid==True:\n",
    "        for i in range(len(centroids)):\n",
    "            ax.add_artist(plt.Circle((centroids[i][0],centroids[i][1]),0.4,linewidth=2,fill=False))\n",
    "            if show_ini_centroid==True:\n",
    "                ax.add_artist(plt.Circle((ini_centroids[i][0],ini_centroids[i][1]),0.4,linewidth=2,color='y',fill=False))\n",
    "    ax.set_xlabel(\"Feature 1\")\n",
    "    ax.set_ylabel(\"Feature 2\")\n",
    "    ax.set_title(\"K-means Cluster\")\n",
    "    if show_plots==True:\n",
    "        plt.show()"
   ]
  },
  {
   "cell_type": "code",
   "execution_count": 9,
   "id": "93ea2d19-bd80-49a2-81cc-43de4071898e",
   "metadata": {},
   "outputs": [],
   "source": [
    "def k_means(data,k,show_type='all',show_plots=True):\n",
    "    \"\"\"\n",
    "    K-Means Algorithmus.\n",
    "    Parameters\n",
    "    ----------\n",
    "    data: array\n",
    "        Daten die zu Clustern sind.\n",
    "    k: integer\n",
    "        Anzahl der Cluster.\n",
    "    show_type: string\n",
    "        Angaben welche angezeigt werden sollen.\n",
    "    show_plots: boolean\n",
    "        Soll das Plot angezeigt werden.\n",
    "    \n",
    "    Returns\n",
    "    -------\n",
    "    cluster: array\n",
    "        Liste mit Clustern.\n",
    "    c_prev: array\n",
    "        Liste mit Zentren.\n",
    "    \"\"\"\n",
    "    c_prev=random_centroid(data,k)\n",
    "    cluster=assign_cluster(data,c_prev,k)\n",
    "    diff = 100\n",
    "    ini_centroid = c_prev;\n",
    "    \n",
    "    print(color.BOLD+\"Notiz:\\n + Gelber Kreis: initiale Zentren\\n * Schwarzer Kreis: aktuelle Zentren\"+color.END)\n",
    "    \n",
    "    if show_plots:\n",
    "        print(color.BOLD+\"\\n\\nInitialer Plot:\\n\"+color.END)\n",
    "        show_clusters(data,cluster,c_prev,ini_centroid,show_plots=show_plots)\n",
    "    while diff>0.0001:\n",
    "        cluster = assign_cluster(data,c_prev,k)\n",
    "        if show_type=='all' and show_plots:\n",
    "            show_clusters(data,cluster,c_prev,ini_centroid,False,False,show_plots=show_plots)\n",
    "            mark_centroid=False\n",
    "            show_ini_centroid=False\n",
    "        c_new = compute_centroid(data,cluster,k)\n",
    "        diff = difference(c_prev,c_new)\n",
    "        c_prev=c_new\n",
    "\n",
    "    if show_plots:\n",
    "        print(color.BOLD+\"\\nInitiale Zentren der Cluster:\\n\"+color.END)\n",
    "        print(ini_centroid)\n",
    "        print(color.BOLD+\"\\nEndgültige Zentren der Cluster:\\n\"+color.END)\n",
    "        print(c_prev)\n",
    "        print(color.BOLD+\"\\n\\nEndgültiger Plot:\\n\"+color.END) \n",
    "        show_clusters(data,cluster,c_prev,ini_centroid,mark_centroid=True,show_ini_centroid=True)    \n",
    "    return cluster,c_prev"
   ]
  },
  {
   "cell_type": "code",
   "execution_count": 10,
   "id": "9c591ccd-0b3c-42da-b66f-0c216f39dce2",
   "metadata": {},
   "outputs": [
    {
     "data": {
      "text/html": [
       "<div>\n",
       "<style scoped>\n",
       "    .dataframe tbody tr th:only-of-type {\n",
       "        vertical-align: middle;\n",
       "    }\n",
       "\n",
       "    .dataframe tbody tr th {\n",
       "        vertical-align: top;\n",
       "    }\n",
       "\n",
       "    .dataframe thead th {\n",
       "        text-align: right;\n",
       "    }\n",
       "</style>\n",
       "<table border=\"1\" class=\"dataframe\">\n",
       "  <thead>\n",
       "    <tr style=\"text-align: right;\">\n",
       "      <th></th>\n",
       "      <th>Testanzahl</th>\n",
       "      <th>Positivenanteil</th>\n",
       "    </tr>\n",
       "  </thead>\n",
       "  <tbody>\n",
       "    <tr>\n",
       "      <th>0</th>\n",
       "      <td>129291</td>\n",
       "      <td>5.802415</td>\n",
       "    </tr>\n",
       "    <tr>\n",
       "      <th>1</th>\n",
       "      <td>374534</td>\n",
       "      <td>6.911522</td>\n",
       "    </tr>\n",
       "    <tr>\n",
       "      <th>2</th>\n",
       "      <td>377599</td>\n",
       "      <td>8.776241</td>\n",
       "    </tr>\n",
       "    <tr>\n",
       "      <th>3</th>\n",
       "      <td>417646</td>\n",
       "      <td>9.014572</td>\n",
       "    </tr>\n",
       "    <tr>\n",
       "      <th>4</th>\n",
       "      <td>383694</td>\n",
       "      <td>8.008204</td>\n",
       "    </tr>\n",
       "    <tr>\n",
       "      <th>5</th>\n",
       "      <td>339983</td>\n",
       "      <td>6.683864</td>\n",
       "    </tr>\n",
       "    <tr>\n",
       "      <th>6</th>\n",
       "      <td>363659</td>\n",
       "      <td>4.984615</td>\n",
       "    </tr>\n",
       "    <tr>\n",
       "      <th>7</th>\n",
       "      <td>327799</td>\n",
       "      <td>3.843819</td>\n",
       "    </tr>\n",
       "    <tr>\n",
       "      <th>8</th>\n",
       "      <td>385638</td>\n",
       "      <td>2.640041</td>\n",
       "    </tr>\n",
       "    <tr>\n",
       "      <th>9</th>\n",
       "      <td>431682</td>\n",
       "      <td>1.654459</td>\n",
       "    </tr>\n",
       "  </tbody>\n",
       "</table>\n",
       "</div>"
      ],
      "text/plain": [
       "   Testanzahl  Positivenanteil\n",
       "0      129291         5.802415\n",
       "1      374534         6.911522\n",
       "2      377599         8.776241\n",
       "3      417646         9.014572\n",
       "4      383694         8.008204\n",
       "5      339983         6.683864\n",
       "6      363659         4.984615\n",
       "7      327799         3.843819\n",
       "8      385638         2.640041\n",
       "9      431682         1.654459"
      ]
     },
     "execution_count": 10,
     "metadata": {},
     "output_type": "execute_result"
    }
   ],
   "source": [
    "# Laden und Testausgabe der Daten. Diese sind schon bereinigt.\n",
    "pathname = 'data/test_zahlen_short.csv'\n",
    "df = pd.read_csv(pathname)\n",
    "df.head(10)"
   ]
  },
  {
   "cell_type": "code",
   "execution_count": 11,
   "id": "f74869c6-adcd-483b-b2ba-adbdabecbaa9",
   "metadata": {},
   "outputs": [
    {
     "data": {
      "image/png": "[encoded data removed]",
      "text/plain": [
       "<Figure size 540x432 with 1 Axes>"
      ]
     },
     "metadata": {
      "needs_background": "light"
     },
     "output_type": "display_data"
    }
   ],
   "source": [
    "# Umwandeln der DataFrame Daten zu einem Array. Festlegen der Clusteranzahl.\n",
    "data_arr = df.to_numpy()\n",
    "k=4\n",
    "plot_data(data_arr)"
   ]
  },
  {
   "cell_type": "code",
   "execution_count": 12,
   "id": "70d79340-f7c6-4943-bd4f-f4395ffc57f6",
   "metadata": {},
   "outputs": [
    {
     "name": "stdout",
     "output_type": "stream",
     "text": [
      "\u001b[1mNotiz:\n",
      " + Gelber Kreis: initiale Zentren\n",
      " * Schwarzer Kreis: aktuelle Zentren\u001b[0m\n",
      "\u001b[1m\n",
      "\n",
      "Initialer Plot:\n",
      "\u001b[0m\n"
     ]
    },
    {
     "data": {
      "image/png": "[encoded data removed]",
      "text/plain": [
       "<Figure size 540x432 with 1 Axes>"
      ]
     },
     "metadata": {
      "needs_background": "light"
     },
     "output_type": "display_data"
    },
    {
     "name": "stdout",
     "output_type": "stream",
     "text": [
      "\u001b[1m\n",
      "Initiale Zentren der Cluster:\n",
      "\u001b[0m\n",
      "[array([8.45729000e+05, 1.53630773e+01]), array([8.7119100e+05, 9.8084117e-01]), array([1.19768700e+06, 1.57763255e+01]), array([1.29291000e+05, 5.80241471e+00])]\n",
      "\u001b[1m\n",
      "Endgültige Zentren der Cluster:\n",
      "\u001b[0m\n",
      "[[1.05548283e+06 1.24050191e+01]\n",
      " [1.46981877e+06 1.27812212e+01]\n",
      " [2.21070060e+06 4.01689911e+01]\n",
      " [5.08578973e+05 7.54119077e+00]]\n",
      "\u001b[1m\n",
      "\n",
      "Endgültiger Plot:\n",
      "\u001b[0m\n"
     ]
    },
    {
     "data": {
      "image/png": "[encoded data removed]",
      "text/plain": [
       "<Figure size 540x432 with 1 Axes>"
      ]
     },
     "metadata": {
      "needs_background": "light"
     },
     "output_type": "display_data"
    }
   ],
   "source": [
    "# K-Means Algorithmus ausführen und ausgeben.\n",
    "cluster,centroid = k_means(data_arr,k,show_type='ini_fin')"
   ]
  },
  {
   "cell_type": "code",
   "execution_count": 13,
   "id": "41725de8-e757-4308-8ebb-a648b7ae63e1",
   "metadata": {},
   "outputs": [
    {
     "data": {
      "image/png": "[encoded data removed]",
      "text/plain": [
       "<Figure size 432x288 with 1 Axes>"
      ]
     },
     "metadata": {
      "needs_background": "light"
     },
     "output_type": "display_data"
    }
   ],
   "source": [
    "sse = []\n",
    "k=range(1, 11)\n",
    "for i in k:\n",
    "    km = KMeans(\n",
    "        n_clusters=i, init='random',\n",
    "        n_init=10, max_iter=300,\n",
    "        tol=1e-04, random_state=0\n",
    "    )\n",
    "    km.fit(data_arr)\n",
    "    sse.append(km.inertia_)\n",
    "plt.plot(k, sse, marker='o')\n",
    "plt.xlabel('Anzahl der Cluster')\n",
    "plt.ylabel('Summe der Fehler')\n",
    "plt.show()"
   ]
  },
  {
   "cell_type": "code",
   "execution_count": null,
   "id": "09570521-e459-4c64-83d8-da7f9cc16505",
   "metadata": {},
   "outputs": [],
   "source": []
  }
 ],
 "metadata": {
  "kernelspec": {
   "display_name": "Python 3 (ipykernel)",
   "language": "python",
   "name": "python3"
  },
  "language_info": {
   "codemirror_mode": {
    "name": "ipython",
    "version": 3
   },
   "file_extension": ".py",
   "mimetype": "text/x-python",
   "name": "python",
   "nbconvert_exporter": "python",
   "pygments_lexer": "ipython3",
   "version": "3.9.2"
  }
 },
 "nbformat": 4,
 "nbformat_minor": 5
}
