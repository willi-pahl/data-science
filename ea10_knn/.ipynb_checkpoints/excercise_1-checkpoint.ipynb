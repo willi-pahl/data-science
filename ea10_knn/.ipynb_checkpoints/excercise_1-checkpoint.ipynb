{
 "cells": [
  {
   "cell_type": "markdown",
   "id": "1750fa75-39f7-437b-94f6-0a462e41139c",
   "metadata": {},
   "source": [
    "Implementieren Sie KNN von Hand für nur 2 Dimensionen mit Normalisierung.\n",
    "\n",
    "Das ist einfach, weil:\n",
    "\n",
    "funct: Sie normalisieren Ihre Daten in einer anderen Tabelle\n",
    "funct: Sie codieren eine einfache euklidische Abstandsfunktion\n",
    "Funktion: Man nimmt einen Punkt und berechnet die Entfernung zu allen Punkten\n",
    "funct: Du nimmst die Liste von oben und sortierst sie\n",
    "funct: Sie aggregieren nach Zielvariable\n",
    "Funktion: Sie nehmen das Maximum, um die Zielklasse zu bestimmen\n",
    "Du bist fertig!\n",
    "\n",
    "Hinweis: Dies ist die einzige Möglichkeit, einen maschinellen Lernalgorithmus von Hand zu implementieren und so etwas von Grund auf zu lernen!"
   ]
  },
  {
   "cell_type": "code",
   "execution_count": null,
   "id": "09d555ad-4f7b-460e-87e4-5db936fa99e3",
   "metadata": {},
   "outputs": [],
   "source": []
  }
 ],
 "metadata": {
  "kernelspec": {
   "display_name": "Python 3 (ipykernel)",
   "language": "python",
   "name": "python3"
  },
  "language_info": {
   "codemirror_mode": {
    "name": "ipython",
    "version": 3
   },
   "file_extension": ".py",
   "mimetype": "text/x-python",
   "name": "python",
   "nbconvert_exporter": "python",
   "pygments_lexer": "ipython3",
   "version": "3.9.2"
  }
 },
 "nbformat": 4,
 "nbformat_minor": 5
}
