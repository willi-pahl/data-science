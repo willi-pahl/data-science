{
 "cells": [
  {
   "cell_type": "markdown",
   "metadata": {},
   "source": [
    "# Power Outages Data"
   ]
  },
  {
   "cell_type": "markdown",
   "metadata": {},
   "source": [
    "This notebook aims to make an EDA (Exploratory Data Analysis) on 15 years of outage to find out the features' relations and to prepare the ground for a Machine Learning model to predict the cause."
   ]
  },
  {
   "cell_type": "markdown",
   "metadata": {},
   "source": [
    "First we import the rquired libraries"
   ]
  },
  {
   "cell_type": "code",
   "execution_count": 1,
   "metadata": {},
   "outputs": [],
   "source": [
    "import numpy as np\n",
    "import pandas as pd\n",
    "import seaborn as sns\n",
    "import matplotlib.pyplot as plt\n",
    "%matplotlib inline\n",
    "\n",
    "from sklearn.preprocessing import LabelEncoder\n",
    "from sklearn.model_selection import train_test_split\n",
    "from sklearn.metrics import accuracy_score\n",
    "from sklearn.metrics import confusion_matrix\n",
    "from sklearn.ensemble import RandomForestClassifier"
   ]
  },
  {
   "cell_type": "markdown",
   "metadata": {},
   "source": [
    "# 1. Data pre-processing"
   ]
  },
  {
   "cell_type": "code",
   "execution_count": 4,
   "metadata": {},
   "outputs": [
    {
     "data": {
      "text/html": [
       "<div>\n",
       "<style scoped>\n",
       "    .dataframe tbody tr th:only-of-type {\n",
       "        vertical-align: middle;\n",
       "    }\n",
       "\n",
       "    .dataframe tbody tr th {\n",
       "        vertical-align: top;\n",
       "    }\n",
       "\n",
       "    .dataframe thead th {\n",
       "        text-align: right;\n",
       "    }\n",
       "</style>\n",
       "<table border=\"1\" class=\"dataframe\">\n",
       "  <thead>\n",
       "    <tr style=\"text-align: right;\">\n",
       "      <th></th>\n",
       "      <th>Event Description</th>\n",
       "      <th>Year</th>\n",
       "      <th>Date Event Began</th>\n",
       "      <th>Time Event Began</th>\n",
       "      <th>Date of Restoration</th>\n",
       "      <th>Time of Restoration</th>\n",
       "      <th>Respondent</th>\n",
       "      <th>Geographic Areas</th>\n",
       "      <th>NERC Region</th>\n",
       "      <th>Demand Loss (MW)</th>\n",
       "      <th>Number of Customers Affected</th>\n",
       "      <th>Tags</th>\n",
       "    </tr>\n",
       "  </thead>\n",
       "  <tbody>\n",
       "    <tr>\n",
       "      <th>0</th>\n",
       "      <td>Severe Weather - Thunderstorms</td>\n",
       "      <td>2014</td>\n",
       "      <td>6/30/2014</td>\n",
       "      <td>8:00 PM</td>\n",
       "      <td>7/2/2014</td>\n",
       "      <td>6:30 PM</td>\n",
       "      <td>Exelon Corporation/ComEd</td>\n",
       "      <td>Illinois</td>\n",
       "      <td>RFC</td>\n",
       "      <td>Unknown</td>\n",
       "      <td>420,000</td>\n",
       "      <td>severe weather, thunderstorm</td>\n",
       "    </tr>\n",
       "    <tr>\n",
       "      <th>1</th>\n",
       "      <td>Severe Weather - Thunderstorms</td>\n",
       "      <td>2014</td>\n",
       "      <td>6/30/2014</td>\n",
       "      <td>11:20 PM</td>\n",
       "      <td>7/1/2014</td>\n",
       "      <td>5:00 PM</td>\n",
       "      <td>Northern Indiana Public Service Company</td>\n",
       "      <td>North Central Indiana</td>\n",
       "      <td>RFC</td>\n",
       "      <td>Unknown</td>\n",
       "      <td>127,000</td>\n",
       "      <td>severe weather, thunderstorm</td>\n",
       "    </tr>\n",
       "    <tr>\n",
       "      <th>2</th>\n",
       "      <td>Severe Weather - Thunderstorms</td>\n",
       "      <td>2014</td>\n",
       "      <td>6/30/2014</td>\n",
       "      <td>5:55 PM</td>\n",
       "      <td>7/1/2014</td>\n",
       "      <td>2:53 AM</td>\n",
       "      <td>We Energies</td>\n",
       "      <td>Southeast  Wisconsin</td>\n",
       "      <td>MRO</td>\n",
       "      <td>424</td>\n",
       "      <td>120,000</td>\n",
       "      <td>severe weather, thunderstorm</td>\n",
       "    </tr>\n",
       "    <tr>\n",
       "      <th>3</th>\n",
       "      <td>Fuel Supply Emergency - Coal</td>\n",
       "      <td>2014</td>\n",
       "      <td>6/27/2014</td>\n",
       "      <td>1:21 PM</td>\n",
       "      <td>Unknown</td>\n",
       "      <td>Unknown</td>\n",
       "      <td>We Energies</td>\n",
       "      <td>Wisconsin</td>\n",
       "      <td>MRO</td>\n",
       "      <td>Unknown</td>\n",
       "      <td>Unknown</td>\n",
       "      <td>fuel supply emergency, coal</td>\n",
       "    </tr>\n",
       "    <tr>\n",
       "      <th>4</th>\n",
       "      <td>Physical Attack - Vandalism</td>\n",
       "      <td>2014</td>\n",
       "      <td>6/24/2014</td>\n",
       "      <td>2:54 PM</td>\n",
       "      <td>6/24/2014</td>\n",
       "      <td>2:55 PM</td>\n",
       "      <td>Tennessee Valley Authority</td>\n",
       "      <td>Nashville, Tennessee</td>\n",
       "      <td>SERC</td>\n",
       "      <td>Unknown</td>\n",
       "      <td>Unknown</td>\n",
       "      <td>vandalism, physical</td>\n",
       "    </tr>\n",
       "  </tbody>\n",
       "</table>\n",
       "</div>"
      ],
      "text/plain": [
       "                Event Description  Year Date Event Began Time Event Began  \\\n",
       "0  Severe Weather - Thunderstorms  2014        6/30/2014          8:00 PM   \n",
       "1  Severe Weather - Thunderstorms  2014        6/30/2014         11:20 PM   \n",
       "2  Severe Weather - Thunderstorms  2014        6/30/2014          5:55 PM   \n",
       "3    Fuel Supply Emergency - Coal  2014        6/27/2014          1:21 PM   \n",
       "4     Physical Attack - Vandalism  2014        6/24/2014          2:54 PM   \n",
       "\n",
       "  Date of Restoration Time of Restoration  \\\n",
       "0            7/2/2014             6:30 PM   \n",
       "1            7/1/2014             5:00 PM   \n",
       "2            7/1/2014             2:53 AM   \n",
       "3             Unknown             Unknown   \n",
       "4           6/24/2014             2:55 PM   \n",
       "\n",
       "                                Respondent       Geographic Areas NERC Region  \\\n",
       "0                 Exelon Corporation/ComEd               Illinois         RFC   \n",
       "1  Northern Indiana Public Service Company  North Central Indiana         RFC   \n",
       "2                              We Energies   Southeast  Wisconsin         MRO   \n",
       "3                              We Energies              Wisconsin         MRO   \n",
       "4               Tennessee Valley Authority   Nashville, Tennessee        SERC   \n",
       "\n",
       "  Demand Loss (MW) Number of Customers Affected                          Tags  \n",
       "0          Unknown                      420,000  severe weather, thunderstorm  \n",
       "1          Unknown                      127,000  severe weather, thunderstorm  \n",
       "2              424                      120,000  severe weather, thunderstorm  \n",
       "3          Unknown                      Unknown   fuel supply emergency, coal  \n",
       "4          Unknown                      Unknown           vandalism, physical  "
      ]
     },
     "execution_count": 4,
     "metadata": {},
     "output_type": "execute_result"
    }
   ],
   "source": [
    "dataset = pd.read_csv('Grid_Disruption_00_14_standardized - Grid_Disruption_00_14_standardized.csv')\n",
    "dataset.head()"
   ]
  },
  {
   "cell_type": "code",
   "execution_count": 5,
   "metadata": {},
   "outputs": [
    {
     "name": "stdout",
     "output_type": "stream",
     "text": [
      "Number of entries: 1652\n"
     ]
    }
   ],
   "source": [
    "print(\"Number of entries: \" + str(len(dataset.index)))"
   ]
  },
  {
   "cell_type": "markdown",
   "metadata": {},
   "source": [
    "A quick peek at the data shows us that empty values are defined as \"Unknown\", which means we should treat them as NULL. To decide what to do with each value, we must first analyze how many empty values each column has:"
   ]
  },
  {
   "cell_type": "markdown",
   "metadata": {},
   "source": [
    "* ### Dealing with empty values"
   ]
  },
  {
   "cell_type": "markdown",
   "metadata": {},
   "source": [
    "We can see many columns have \"Unknown\", which needs to be cleaned. We need to have special care with our numerical columns. Year is pretty likely pretty clean, I expect that \"Number of Customers Affected\" is more troublesome:"
   ]
  },
  {
   "cell_type": "code",
   "execution_count": 6,
   "metadata": {},
   "outputs": [
    {
     "data": {
      "text/plain": [
       "1652"
      ]
     },
     "execution_count": 6,
     "metadata": {},
     "output_type": "execute_result"
    }
   ],
   "source": [
    "len(pd.to_numeric(dataset['Year'], 'coerce').dropna().astype(int))"
   ]
  },
  {
   "cell_type": "markdown",
   "metadata": {},
   "source": [
    "\"Year\" seems to be perfectly filled, we don't need to worry about it."
   ]
  },
  {
   "cell_type": "code",
   "execution_count": 9,
   "metadata": {},
   "outputs": [
    {
     "data": {
      "text/plain": [
       "807"
      ]
     },
     "execution_count": 9,
     "metadata": {},
     "output_type": "execute_result"
    }
   ],
   "source": [
    "len(pd.to_numeric(dataset['Demand Loss (MW)'], 'coerce').dropna().astype(int))"
   ]
  },
  {
   "cell_type": "markdown",
   "metadata": {},
   "source": [
    "Over 700 rows are not numeric on 'Demand Loss (MW)'. It's quite a lot of missing values (almost 50%), we'll have to decide if we want to keep it or not."
   ]
  },
  {
   "cell_type": "code",
   "execution_count": 10,
   "metadata": {},
   "outputs": [
    {
     "data": {
      "text/plain": [
       "222"
      ]
     },
     "execution_count": 10,
     "metadata": {},
     "output_type": "execute_result"
    }
   ],
   "source": [
    "len(pd.to_numeric(dataset['Number of Customers Affected'], 'coerce').dropna().astype(int))"
   ]
  },
  {
   "cell_type": "markdown",
   "metadata": {},
   "source": [
    "As we can see above, we have too many non numerical rows for this column (only 222 are correctly filled), it may be best to simply drop it. Let's take a quick look at 'Demand Loss (MW)' first:"
   ]
  },
  {
   "cell_type": "code",
   "execution_count": 12,
   "metadata": {},
   "outputs": [
    {
     "name": "stdout",
     "output_type": "stream",
     "text": [
      "Demand Loss (MW)\n"
     ]
    },
    {
     "data": {
      "text/plain": [
       "0       Unknown\n",
       "1       Unknown\n",
       "2           424\n",
       "3       Unknown\n",
       "4       Unknown\n",
       "5       Unknown\n",
       "6       Unknown\n",
       "7       Unknown\n",
       "8       Unknown\n",
       "9       Unknown\n",
       "10          NaN\n",
       "11          NaN\n",
       "12      Unknown\n",
       "13      Unknown\n",
       "14          217\n",
       "15      Unknown\n",
       "16          494\n",
       "17      Unknown\n",
       "18          338\n",
       "19      Unknown\n",
       "20          NaN\n",
       "21      Unknown\n",
       "22      Unknown\n",
       "23          NaN\n",
       "24        3,900\n",
       "25        3,300\n",
       "26          NaN\n",
       "27          NaN\n",
       "28      Unknown\n",
       "29      Unknown\n",
       "         ...   \n",
       "1622        NaN\n",
       "1623         15\n",
       "1624        500\n",
       "1625        NaN\n",
       "1626       None\n",
       "1627       None\n",
       "1628       None\n",
       "1629       None\n",
       "1630         35\n",
       "1631        175\n",
       "1632        294\n",
       "1633        130\n",
       "1634        138\n",
       "1635       None\n",
       "1636    450-500\n",
       "1637       None\n",
       "1638    150-200\n",
       "1639        NaN\n",
       "1640        NaN\n",
       "1641        NaN\n",
       "1642        NaN\n",
       "1643       None\n",
       "1644        143\n",
       "1645         46\n",
       "1646      1,040\n",
       "1647        400\n",
       "1648        NaN\n",
       "1649        300\n",
       "1650        960\n",
       "1651        450\n",
       "Name: Demand Loss (MW), Length: 1652, dtype: object"
      ]
     },
     "execution_count": 12,
     "metadata": {},
     "output_type": "execute_result"
    }
   ],
   "source": [
    "print('Demand Loss (MW)')\n",
    "dataset.iloc[:, 9]"
   ]
  },
  {
   "cell_type": "markdown",
   "metadata": {},
   "source": [
    "Besides the usual 'None', 'NaN' and 'Unknown', there are some range values in place (separated by '-'). In other circumstances, I would just remove this column, but since we're likely dropping 'Number of Customers Affected', let's simply remove the empty values:"
   ]
  },
  {
   "cell_type": "code",
   "execution_count": 13,
   "metadata": {},
   "outputs": [
    {
     "name": "stdout",
     "output_type": "stream",
     "text": [
      "807\n"
     ]
    }
   ],
   "source": [
    "dataset = dataset.iloc[pd.to_numeric(dataset['Demand Loss (MW)'], 'coerce').dropna().astype(int).index, :]\n",
    "print(len(dataset.index))"
   ]
  },
  {
   "cell_type": "markdown",
   "metadata": {},
   "source": [
    "[](http://)Let's take a quick look at 'Number of Customers Affected', to make sure it isn't anything we can fix:"
   ]
  },
  {
   "cell_type": "code",
   "execution_count": 15,
   "metadata": {},
   "outputs": [
    {
     "name": "stdout",
     "output_type": "stream",
     "text": [
      "Number of Customers Affected\n"
     ]
    },
    {
     "data": {
      "text/plain": [
       "2             120,000\n",
       "14             65,000\n",
       "16             38,500\n",
       "18                NaN\n",
       "33             89,000\n",
       "34            106,648\n",
       "36          4,000,000\n",
       "40             28,000\n",
       "55             61,377\n",
       "57            370,900\n",
       "62            Unknown\n",
       "64             66,445\n",
       "70            120,124\n",
       "74            Unknown\n",
       "77            Unknown\n",
       "78            Unknown\n",
       "82            181,000\n",
       "83            Unknown\n",
       "103           Unknown\n",
       "111           Unknown\n",
       "123            62,000\n",
       "136           140,735\n",
       "140            88,000\n",
       "143           Unknown\n",
       "145            89,500\n",
       "152             7,500\n",
       "154            61,705\n",
       "157            48,400\n",
       "166               433\n",
       "168                 0\n",
       "            ...      \n",
       "1596           25,000\n",
       "1597           53,565\n",
       "1598           63,500\n",
       "1599           1 PG&E\n",
       "1600           1 PG&E\n",
       "1601                0\n",
       "1602          190,000\n",
       "1603          255,000\n",
       "1604        1,881,134\n",
       "1605           95,000\n",
       "1607          600,000\n",
       "1610           24,506\n",
       "1611     Undetermined\n",
       "1613     Undetermined\n",
       "1619          130,000\n",
       "1620              NaN\n",
       "1621              NaN\n",
       "1623          124,000\n",
       "1624          130,000\n",
       "1630           14,273\n",
       "1631           30,500\n",
       "1632             None\n",
       "1633           32,000\n",
       "1634           40,911\n",
       "1644           37,000\n",
       "1645    40,000-45,000\n",
       "1647          100,000\n",
       "1649           81,000\n",
       "1650          173,000\n",
       "1651          133,000\n",
       "Name: Number of Customers Affected, Length: 807, dtype: object"
      ]
     },
     "execution_count": 15,
     "metadata": {},
     "output_type": "execute_result"
    }
   ],
   "source": [
    "print('Number of Customers Affected')\n",
    "dataset.iloc[:, 10]"
   ]
  },
  {
   "cell_type": "markdown",
   "metadata": {},
   "source": [
    "As we suspected, this data is not in good shape to be used. Besides the usual culprits (\"NaN\", \"Unknown\", \"None\"), we also have some strange choices, such as using \"Approx. \" and \" - \" to indicate a possible range of values. With that in mind, let's proceed with the plan to drop it:"
   ]
  },
  {
   "cell_type": "code",
   "execution_count": 16,
   "metadata": {},
   "outputs": [],
   "source": [
    "dataset = dataset[dataset.columns.difference(['Number of Customers Affected'])]"
   ]
  },
  {
   "cell_type": "markdown",
   "metadata": {},
   "source": [
    "With that done, we can continue with our data pre-processing and replace 'Unknown' with None on all other columns, so that we can have a better idea of how many empty values we have:"
   ]
  },
  {
   "cell_type": "code",
   "execution_count": 18,
   "metadata": {},
   "outputs": [],
   "source": [
    "for column in dataset.columns:\n",
    "    dataset[column].replace('Unknown', None, inplace=True)"
   ]
  },
  {
   "cell_type": "code",
   "execution_count": 19,
   "metadata": {},
   "outputs": [
    {
     "data": {
      "text/plain": [
       "Date Event Began       False\n",
       "Date of Restoration     True\n",
       "Demand Loss (MW)       False\n",
       "Event Description      False\n",
       "Geographic Areas       False\n",
       "NERC Region            False\n",
       "Respondent             False\n",
       "Tags                    True\n",
       "Time Event Began        True\n",
       "Time of Restoration     True\n",
       "Year                   False\n",
       "dtype: bool"
      ]
     },
     "execution_count": 19,
     "metadata": {},
     "output_type": "execute_result"
    }
   ],
   "source": [
    "dataset.isnull().any()"
   ]
  },
  {
   "cell_type": "markdown",
   "metadata": {},
   "source": [
    "Many columns have empty values, lets now check how bad it is:"
   ]
  },
  {
   "cell_type": "code",
   "execution_count": 21,
   "metadata": {},
   "outputs": [
    {
     "name": "stdout",
     "output_type": "stream",
     "text": [
      "Total number of rows: 807\n",
      "Number of empty values:\n",
      " * Date Event Began: 0\n",
      " * Date of Restoration: 6\n",
      " * Demand Loss (MW): 0\n",
      " * Event Description: 0\n",
      " * Geographic Areas: 0\n",
      " * NERC Region: 0\n",
      " * Respondent: 0\n",
      " * Tags: 1\n",
      " * Time Event Began: 4\n",
      " * Time of Restoration: 8\n",
      " * Year: 0\n"
     ]
    }
   ],
   "source": [
    "print(\"Total number of rows: \" + str(len(dataset.index)))\n",
    "print(\"Number of empty values:\")\n",
    "for column in dataset.columns:\n",
    "    print(\" * \" + column + \": \" + str(dataset[column].isnull().sum()))"
   ]
  },
  {
   "cell_type": "markdown",
   "metadata": {},
   "source": [
    "We now have very few columns left with 'None' values, we can just remove these rows."
   ]
  },
  {
   "cell_type": "code",
   "execution_count": 22,
   "metadata": {},
   "outputs": [],
   "source": [
    "dataset = dataset.dropna()"
   ]
  },
  {
   "cell_type": "markdown",
   "metadata": {},
   "source": [
    "Despite \"Event Description\" being a very interesting column, we don't need it, since it tells the same story as \"Tags\" (which is simplified):"
   ]
  },
  {
   "cell_type": "code",
   "execution_count": 23,
   "metadata": {},
   "outputs": [],
   "source": [
    "dataset = dataset[dataset.columns.difference(['Event Description'])]"
   ]
  },
  {
   "cell_type": "markdown",
   "metadata": {},
   "source": [
    "We can now check if our data is properly cleaned:"
   ]
  },
  {
   "cell_type": "code",
   "execution_count": 24,
   "metadata": {},
   "outputs": [
    {
     "name": "stdout",
     "output_type": "stream",
     "text": [
      "Total number of rows: 797\n",
      "Number of empty values:\n",
      " * Date Event Began: 0\n",
      " * Date of Restoration: 0\n",
      " * Demand Loss (MW): 0\n",
      " * Geographic Areas: 0\n",
      " * NERC Region: 0\n",
      " * Respondent: 0\n",
      " * Tags: 0\n",
      " * Time Event Began: 0\n",
      " * Time of Restoration: 0\n",
      " * Year: 0\n"
     ]
    }
   ],
   "source": [
    "print(\"Total number of rows: \" + str(len(dataset.index)))\n",
    "print(\"Number of empty values:\")\n",
    "for column in dataset.columns:\n",
    "    print(\" * \" + column + \": \" + str(dataset[column].isnull().sum()))"
   ]
  },
  {
   "cell_type": "markdown",
   "metadata": {},
   "source": [
    "It is! The new size of our dataset is 797 (down from 1652). We lost quite a lot of data (a little bit over 50%), but it should be enough for our analysis. Before proceeding, let's take a last quick look at it:"
   ]
  },
  {
   "cell_type": "code",
   "execution_count": 25,
   "metadata": {},
   "outputs": [
    {
     "data": {
      "text/html": [
       "<div>\n",
       "<style scoped>\n",
       "    .dataframe tbody tr th:only-of-type {\n",
       "        vertical-align: middle;\n",
       "    }\n",
       "\n",
       "    .dataframe tbody tr th {\n",
       "        vertical-align: top;\n",
       "    }\n",
       "\n",
       "    .dataframe thead th {\n",
       "        text-align: right;\n",
       "    }\n",
       "</style>\n",
       "<table border=\"1\" class=\"dataframe\">\n",
       "  <thead>\n",
       "    <tr style=\"text-align: right;\">\n",
       "      <th></th>\n",
       "      <th>Date Event Began</th>\n",
       "      <th>Date of Restoration</th>\n",
       "      <th>Demand Loss (MW)</th>\n",
       "      <th>Geographic Areas</th>\n",
       "      <th>NERC Region</th>\n",
       "      <th>Respondent</th>\n",
       "      <th>Tags</th>\n",
       "      <th>Time Event Began</th>\n",
       "      <th>Time of Restoration</th>\n",
       "      <th>Year</th>\n",
       "    </tr>\n",
       "  </thead>\n",
       "  <tbody>\n",
       "    <tr>\n",
       "      <th>2</th>\n",
       "      <td>6/30/2014</td>\n",
       "      <td>7/1/2014</td>\n",
       "      <td>424</td>\n",
       "      <td>Southeast  Wisconsin</td>\n",
       "      <td>MRO</td>\n",
       "      <td>We Energies</td>\n",
       "      <td>severe weather, thunderstorm</td>\n",
       "      <td>5:55 PM</td>\n",
       "      <td>2:53 AM</td>\n",
       "      <td>2014</td>\n",
       "    </tr>\n",
       "    <tr>\n",
       "      <th>14</th>\n",
       "      <td>6/7/2014</td>\n",
       "      <td>6/8/2014</td>\n",
       "      <td>217</td>\n",
       "      <td>North and Central , Alabama</td>\n",
       "      <td>SERC</td>\n",
       "      <td>Southern Company</td>\n",
       "      <td>severe weather, thunderstorm</td>\n",
       "      <td>11:00 PM</td>\n",
       "      <td>5:30 AM</td>\n",
       "      <td>2014</td>\n",
       "    </tr>\n",
       "    <tr>\n",
       "      <th>16</th>\n",
       "      <td>6/5/2014</td>\n",
       "      <td>6/7/2014</td>\n",
       "      <td>494</td>\n",
       "      <td>Shelby County, Tennessee</td>\n",
       "      <td>SERC</td>\n",
       "      <td>Memphis Light Gas and Water Division</td>\n",
       "      <td>severe weather, thunderstorm</td>\n",
       "      <td>3:00 AM</td>\n",
       "      <td>11:45 PM</td>\n",
       "      <td>2014</td>\n",
       "    </tr>\n",
       "    <tr>\n",
       "      <th>18</th>\n",
       "      <td>6/3/2014</td>\n",
       "      <td>6/3/2014</td>\n",
       "      <td>338</td>\n",
       "      <td>Alberta, Canada</td>\n",
       "      <td>WECC</td>\n",
       "      <td>Peak Reliability</td>\n",
       "      <td>islanding</td>\n",
       "      <td>3:32 PM</td>\n",
       "      <td>3:59 PM</td>\n",
       "      <td>2014</td>\n",
       "    </tr>\n",
       "    <tr>\n",
       "      <th>33</th>\n",
       "      <td>4/30/2014</td>\n",
       "      <td>4/30/2014</td>\n",
       "      <td>296</td>\n",
       "      <td>Alabama, Florida, Georgia</td>\n",
       "      <td>SERC</td>\n",
       "      <td>Southern Company</td>\n",
       "      <td>severe weather, thunderstorm</td>\n",
       "      <td>3:50 AM</td>\n",
       "      <td>2:00 PM</td>\n",
       "      <td>2014</td>\n",
       "    </tr>\n",
       "  </tbody>\n",
       "</table>\n",
       "</div>"
      ],
      "text/plain": [
       "   Date Event Began Date of Restoration Demand Loss (MW)  \\\n",
       "2         6/30/2014            7/1/2014              424   \n",
       "14         6/7/2014            6/8/2014              217   \n",
       "16         6/5/2014            6/7/2014              494   \n",
       "18         6/3/2014            6/3/2014              338   \n",
       "33        4/30/2014           4/30/2014              296   \n",
       "\n",
       "               Geographic Areas NERC Region  \\\n",
       "2          Southeast  Wisconsin         MRO   \n",
       "14  North and Central , Alabama        SERC   \n",
       "16     Shelby County, Tennessee        SERC   \n",
       "18              Alberta, Canada        WECC   \n",
       "33    Alabama, Florida, Georgia        SERC   \n",
       "\n",
       "                              Respondent                          Tags  \\\n",
       "2                            We Energies  severe weather, thunderstorm   \n",
       "14                      Southern Company  severe weather, thunderstorm   \n",
       "16  Memphis Light Gas and Water Division  severe weather, thunderstorm   \n",
       "18                      Peak Reliability                     islanding   \n",
       "33                      Southern Company  severe weather, thunderstorm   \n",
       "\n",
       "   Time Event Began Time of Restoration  Year  \n",
       "2           5:55 PM             2:53 AM  2014  \n",
       "14         11:00 PM             5:30 AM  2014  \n",
       "16          3:00 AM            11:45 PM  2014  \n",
       "18          3:32 PM             3:59 PM  2014  \n",
       "33          3:50 AM             2:00 PM  2014  "
      ]
     },
     "execution_count": 25,
     "metadata": {},
     "output_type": "execute_result"
    }
   ],
   "source": [
    "dataset.head()"
   ]
  },
  {
   "cell_type": "markdown",
   "metadata": {},
   "source": [
    "**** # 2. Data analysis"
   ]
  },
  {
   "cell_type": "markdown",
   "metadata": {},
   "source": [
    "With our dataset properly cleaned, we can now take a look and see how it's distributed (and how the columns relate to each other). A few interesting plots comes to mind:\n",
    " * Year and Tags\n",
    " * Demand Loss (MW) and Year\n",
    " * Count of causes (Tags)\n",
    " * Count of occurrences per Year"
   ]
  },
  {
   "cell_type": "code",
   "execution_count": null,
   "metadata": {},
   "outputs": [],
   "source": []
  }
 ],
 "metadata": {
  "kernelspec": {
   "display_name": "Python 3",
   "language": "python",
   "name": "python3"
  },
  "language_info": {
   "codemirror_mode": {
    "name": "ipython",
    "version": 3
   },
   "file_extension": ".py",
   "mimetype": "text/x-python",
   "name": "python",
   "nbconvert_exporter": "python",
   "pygments_lexer": "ipython3",
   "version": "3.6.5"
  }
 },
 "nbformat": 4,
 "nbformat_minor": 2
}
