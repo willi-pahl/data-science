{
 "cells": [
  {
   "cell_type": "code",
   "execution_count": 1,
   "id": "208d1ebf-fb3d-40e7-9741-4c92ada9fe6e",
   "metadata": {},
   "outputs": [
    {
     "ename": "AttributeError",
     "evalue": "module 'trifacta' has no attribute 'wrangle'",
     "output_type": "error",
     "traceback": [
      "\u001b[0;31m---------------------------------------------------------------------------\u001b[0m",
      "\u001b[0;31mAttributeError\u001b[0m                            Traceback (most recent call last)",
      "Input \u001b[0;32mIn [1]\u001b[0m, in \u001b[0;36m<cell line: 9>\u001b[0;34m()\u001b[0m\n\u001b[1;32m      7\u001b[0m filename \u001b[38;5;241m=\u001b[39m \u001b[38;5;124m'\u001b[39m\u001b[38;5;124mdsm-beuth-edl-demodata-dirty.csv\u001b[39m\u001b[38;5;124m'\u001b[39m\n\u001b[1;32m      8\u001b[0m df \u001b[38;5;241m=\u001b[39m pd\u001b[38;5;241m.\u001b[39mread_csv(pathname \u001b[38;5;241m+\u001b[39m filename)\n\u001b[0;32m----> 9\u001b[0m wf \u001b[38;5;241m=\u001b[39m \u001b[43mtf\u001b[49m\u001b[38;5;241;43m.\u001b[39;49m\u001b[43mwrangle\u001b[49m(df)\n",
      "\u001b[0;31mAttributeError\u001b[0m: module 'trifacta' has no attribute 'wrangle'"
     ]
    }
   ],
   "source": [
    "# Data set load.\n",
    "import numpy as np\n",
    "import pandas as pd\n",
    "import trifacta as tf\n",
    "\n",
    "pathname = '/home/pahl/Dokumente/Studium/Module/6_DS/github/ea8_data_cleaning/'\n",
    "filename = 'dsm-beuth-edl-demodata-dirty.csv'\n",
    "df = pd.read_csv(pathname + filename)\n",
    "wf = tf.wrangle(df)"
   ]
  },
  {
   "cell_type": "code",
   "execution_count": null,
   "id": "ad2fa8b4-dc16-4ba0-8e56-f2b14eb7c7d3",
   "metadata": {},
   "outputs": [],
   "source": []
  }
 ],
 "metadata": {
  "kernelspec": {
   "display_name": "Python 3 (ipykernel)",
   "language": "python",
   "name": "python3"
  },
  "language_info": {
   "codemirror_mode": {
    "name": "ipython",
    "version": 3
   },
   "file_extension": ".py",
   "mimetype": "text/x-python",
   "name": "python",
   "nbconvert_exporter": "python",
   "pygments_lexer": "ipython3",
   "version": "3.9.2"
  }
 },
 "nbformat": 4,
 "nbformat_minor": 5
}
