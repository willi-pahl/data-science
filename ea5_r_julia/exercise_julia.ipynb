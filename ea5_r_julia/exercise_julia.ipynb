{
 "cells": [
  {
   "cell_type": "code",
   "execution_count": 1,
   "id": "3b3c98ec-5673-48ec-9d66-8da7a69a0425",
   "metadata": {},
   "outputs": [
    {
     "data": {
      "text/plain": [
       "2×4 Array{Float64,2}:\n",
       " 0.371518  0.532302  0.173886  0.267906\n",
       " 0.303509  0.463328  0.939539  0.334072"
      ]
     },
     "execution_count": 1,
     "metadata": {},
     "output_type": "execute_result"
    }
   ],
   "source": [
    "# Exercise 3 (JULIA)\n",
    "A_max = rand(2, 4)"
   ]
  },
  {
   "cell_type": "code",
   "execution_count": 2,
   "id": "b94845f4-82bd-4215-9cf1-f0e9c1d1edf7",
   "metadata": {},
   "outputs": [
    {
     "data": {
      "text/plain": [
       "(0.9395392098442144, CartesianIndex(2, 3))"
      ]
     },
     "execution_count": 2,
     "metadata": {},
     "output_type": "execute_result"
    }
   ],
   "source": [
    "max = findmax(A_max)"
   ]
  },
  {
   "cell_type": "code",
   "execution_count": 3,
   "id": "edd89ce4-8640-46e6-bac0-ea743c8635e0",
   "metadata": {},
   "outputs": [
    {
     "data": {
      "text/plain": [
       "2×2 Array{Int64,2}:\n",
       " 7  9\n",
       " 2  7"
      ]
     },
     "execution_count": 3,
     "metadata": {},
     "output_type": "execute_result"
    }
   ],
   "source": [
    "# Exercise 4 (JULIA)\n",
    "# 4.1\n",
    "A = rand(Int.(1:10), 2, 2)\n",
    "B = rand(Int.(1:10), 2, 2)"
   ]
  },
  {
   "cell_type": "code",
   "execution_count": 4,
   "id": "38054b2e-3417-4605-9964-b22b7d63702b",
   "metadata": {},
   "outputs": [
    {
     "name": "stdout",
     "output_type": "stream",
     "text": [
      "[8 7; 9 1][7 9; 2 7]"
     ]
    }
   ],
   "source": [
    "show(A)\n",
    "show(B)"
   ]
  },
  {
   "cell_type": "code",
   "execution_count": 5,
   "id": "4496ced6-96b3-4073-ac51-9d4aef569b85",
   "metadata": {},
   "outputs": [
    {
     "data": {
      "text/plain": [
       "2×2 Array{Int64,2}:\n",
       " 15  16\n",
       " 11   8"
      ]
     },
     "execution_count": 5,
     "metadata": {},
     "output_type": "execute_result"
    }
   ],
   "source": [
    "# Addinition.\n",
    "# 4.1\n",
    "M_add = A + B"
   ]
  },
  {
   "cell_type": "code",
   "execution_count": 6,
   "id": "e1d7cbb6-7d17-4bfd-9373-4795131e874d",
   "metadata": {},
   "outputs": [
    {
     "data": {
      "text/plain": [
       "2×2 Array{Int64,2}:\n",
       " 1  -2\n",
       " 7  -6"
      ]
     },
     "execution_count": 6,
     "metadata": {},
     "output_type": "execute_result"
    }
   ],
   "source": [
    "# Subtraction\n",
    "# 4.1\n",
    "M_sub = A - B"
   ]
  },
  {
   "cell_type": "code",
   "execution_count": 7,
   "id": "53a259d5-7cee-4f18-a967-75245472a09c",
   "metadata": {},
   "outputs": [
    {
     "data": {
      "text/plain": [
       "2×2 Array{Int64,2}:\n",
       " 70  121\n",
       " 65   88"
      ]
     },
     "execution_count": 7,
     "metadata": {},
     "output_type": "execute_result"
    }
   ],
   "source": [
    "# Multiplication 1\n",
    "# 4.2\n",
    "M_mul_1 = A * B"
   ]
  },
  {
   "cell_type": "code",
   "execution_count": 8,
   "id": "b67209c4-2573-4252-887c-0ff58d4b5abd",
   "metadata": {},
   "outputs": [
    {
     "ename": "LoadError",
     "evalue": "\u001b[91msyntax: extra token \"B\" after end of expression\u001b[39m",
     "output_type": "error",
     "traceback": [
      "\u001b[91msyntax: extra token \"B\" after end of expression\u001b[39m",
      "",
      "Stacktrace:",
      " [1] top-level scope at In[8]:3",
      " [2] include_string(::Function, ::Module, ::String, ::String) at ./loading.jl:1091"
     ]
    }
   ],
   "source": [
    "# Multiplication 2\n",
    "# 4.2\n",
    "M_mul_2 = A. * B"
   ]
  },
  {
   "cell_type": "code",
   "execution_count": 9,
   "id": "15b26125-e350-4767-aaea-4d2a71583b32",
   "metadata": {},
   "outputs": [
    {
     "data": {
      "text/plain": [
       "2×2 Array{Float64,2}:\n",
       " 1.35484  -0.741935\n",
       " 1.96774  -2.3871"
      ]
     },
     "execution_count": 9,
     "metadata": {},
     "output_type": "execute_result"
    }
   ],
   "source": [
    "# Division 1.\n",
    "# 4.3\n",
    "M_diff_1 = A / B"
   ]
  },
  {
   "cell_type": "code",
   "execution_count": 10,
   "id": "41012fc8-45e2-4bf1-a63c-13dda6cbc622",
   "metadata": {},
   "outputs": [
    {
     "data": {
      "text/plain": [
       "2×2 Array{Float64,2}:\n",
       " 0.127273  0.727273\n",
       " 0.854545  0.454545"
      ]
     },
     "execution_count": 10,
     "metadata": {},
     "output_type": "execute_result"
    }
   ],
   "source": [
    "# Division 2.\n",
    "#4.3\n",
    "M_diff_2 = A \\ B"
   ]
  },
  {
   "cell_type": "code",
   "execution_count": 13,
   "id": "dbdccc1c-755c-460a-af59-548b6b2431aa",
   "metadata": {},
   "outputs": [
    {
     "data": {
      "text/plain": [
       "3×3 Array{Int64,2}:\n",
       " 1  1  1\n",
       " 1  1  1\n",
       " 1  1  1"
      ]
     },
     "execution_count": 13,
     "metadata": {},
     "output_type": "execute_result"
    }
   ],
   "source": [
    "#\n",
    "# 4.4\n",
    "M_int = rand(Int.(1:10), 3, 3)\n",
    "M_of_ones = ones(Int, 3,3)"
   ]
  },
  {
   "cell_type": "code",
   "execution_count": 14,
   "id": "a493da40-25ae-4c69-8ff4-75d2138cd019",
   "metadata": {},
   "outputs": [
    {
     "name": "stdout",
     "output_type": "stream",
     "text": [
      "[10 2 3; 2 1 3; 4 6 1]"
     ]
    }
   ],
   "source": [
    "show(M_int)"
   ]
  },
  {
   "cell_type": "code",
   "execution_count": 15,
   "id": "7615f2fe-59b4-4302-9585-e17589b87345",
   "metadata": {},
   "outputs": [
    {
     "name": "stdout",
     "output_type": "stream",
     "text": [
      "[1 1 1; 1 1 1; 1 1 1]"
     ]
    }
   ],
   "source": [
    "show(M_of_ones)"
   ]
  },
  {
   "cell_type": "code",
   "execution_count": 16,
   "id": "948b3990-eafd-478b-aea1-c814d90c6d6f",
   "metadata": {},
   "outputs": [
    {
     "data": {
      "text/plain": [
       "3×3 Array{Int64,2}:\n",
       " 11  3  4\n",
       "  3  2  4\n",
       "  5  7  2"
      ]
     },
     "execution_count": 16,
     "metadata": {},
     "output_type": "execute_result"
    }
   ],
   "source": [
    "# 4.4\n",
    "M_add_1 = M_int + 1 * M_of_ones"
   ]
  },
  {
   "cell_type": "code",
   "execution_count": 17,
   "id": "b3bd6662-0829-43ef-b290-83c4cb7fa794",
   "metadata": {},
   "outputs": [
    {
     "data": {
      "text/plain": [
       "3×3 Array{Int64,2}:\n",
       " 9  1  2\n",
       " 1  0  2\n",
       " 3  5  0"
      ]
     },
     "execution_count": 17,
     "metadata": {},
     "output_type": "execute_result"
    }
   ],
   "source": [
    "M_diff_1 = M_int - 1 * M_of_ones"
   ]
  },
  {
   "cell_type": "code",
   "execution_count": null,
   "id": "e961dbd2-06be-4290-bdaf-89a4c6b60913",
   "metadata": {},
   "outputs": [],
   "source": []
  }
 ],
 "metadata": {
  "kernelspec": {
   "display_name": "Julia 1.5.3",
   "language": "julia",
   "name": "julia-1.5"
  },
  "language_info": {
   "file_extension": ".jl",
   "mimetype": "application/julia",
   "name": "julia",
   "version": "1.5.3"
  }
 },
 "nbformat": 4,
 "nbformat_minor": 5
}
